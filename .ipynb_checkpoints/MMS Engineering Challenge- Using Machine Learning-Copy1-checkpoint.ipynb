{
 "cells": [
  {
   "cell_type": "markdown",
   "metadata": {},
   "source": [
    "# __Welcome to the MMS Engineering Challenge!__\n",
    "\n",
    "This notebook provides you some code to setup a MMS Data Engineering problem. There is no optimal solution, but many good answers. We only want to see if you know how to tackle the problem. There is a lot of room for your approach to the problem. \n",
    "\n",
    "Goal: We want you to predict the number of __sales_per_day__ (= label) with the given dataset and put it into production.\n",
    "\n",
    "\n",
    "Short explanation of the dataset: \n",
    "- __outlet_id__: The ID of a outlet/market\n",
    "- __country__: The country in which the outlet is located\n",
    "- __brand__: \"MediaMarkt\" or \"Saturn\"\n",
    "- __customers_per_day__: The number of customers per day in this outlet \n",
    "- __sales_per_day__: The amount of sales for a specific outlet on a specific day\n",
    "- __currency__: The currency of __sales_per_day__\n",
    "- __week_id__: Calendar week \n",
    "- __weekday__: mon = Monday, tue = Tuesday, ... , sun = Sunday"
   ]
  },
  {
   "cell_type": "code",
   "execution_count": 1,
   "metadata": {},
   "outputs": [
    {
     "name": "stdout",
     "output_type": "stream",
     "text": [
      "        brand  country currency  customers_per_day  outlet_id  week_id  \\\n",
      "0  MediaMarkt    spain     EURO             3138.0      100.0     34.0   \n",
      "1      Saturn  germany     EURO              378.0       86.0      8.0   \n",
      "2  MediaMarkt    italy     EURO              379.0      530.0     28.0   \n",
      "3      Saturn  germany     EURO             3050.0       17.0     47.0   \n",
      "4  MediaMarkt    spain     EURO              548.0      164.0      7.0   \n",
      "\n",
      "  weekday  sales_per_day  \n",
      "0     sat       72169.14  \n",
      "1     mon       52825.62  \n",
      "2     thu       53309.83  \n",
      "3     sat       74237.45  \n",
      "4     tue       56621.61  \n"
     ]
    }
   ],
   "source": [
    "import pandas as pd\n",
    "\n",
    "\n",
    "data_path = 'data.csv' # maybe you have to modify this... \n",
    "data = pd.read_csv(data_path, sep=';')\n",
    "print(data.head())"
   ]
  },
  {
   "cell_type": "markdown",
   "metadata": {},
   "source": [
    "# Challenge\n",
    "Now it is your turn. Show us how you are tackeling this problem. You have complete freedom what you do."
   ]
  },
  {
   "cell_type": "markdown",
   "metadata": {},
   "source": [
    "## Exploration\n",
    "The goal here is to better understand the underlying data e.g. in terms of completeness, distribution etc.."
   ]
  },
  {
   "cell_type": "code",
   "execution_count": 12,
   "metadata": {},
   "outputs": [
    {
     "data": {
      "text/html": [
       "<div>\n",
       "<style scoped>\n",
       "    .dataframe tbody tr th:only-of-type {\n",
       "        vertical-align: middle;\n",
       "    }\n",
       "\n",
       "    .dataframe tbody tr th {\n",
       "        vertical-align: top;\n",
       "    }\n",
       "\n",
       "    .dataframe thead th {\n",
       "        text-align: right;\n",
       "    }\n",
       "</style>\n",
       "<table border=\"1\" class=\"dataframe\">\n",
       "  <thead>\n",
       "    <tr style=\"text-align: right;\">\n",
       "      <th></th>\n",
       "      <th>brand</th>\n",
       "      <th>country</th>\n",
       "      <th>currency</th>\n",
       "      <th>customers_per_day</th>\n",
       "      <th>outlet_id</th>\n",
       "      <th>week_id</th>\n",
       "      <th>weekday</th>\n",
       "      <th>sales_per_day</th>\n",
       "    </tr>\n",
       "  </thead>\n",
       "  <tbody>\n",
       "    <tr>\n",
       "      <th>6780</th>\n",
       "      <td>MediaMarkt</td>\n",
       "      <td>switzerland</td>\n",
       "      <td>CHF</td>\n",
       "      <td>2012.0</td>\n",
       "      <td>421.0</td>\n",
       "      <td>11.0</td>\n",
       "      <td>fri</td>\n",
       "      <td>57839.82</td>\n",
       "    </tr>\n",
       "    <tr>\n",
       "      <th>17487</th>\n",
       "      <td>Saturn</td>\n",
       "      <td>netherlands</td>\n",
       "      <td>EURO</td>\n",
       "      <td>2884.0</td>\n",
       "      <td>698.0</td>\n",
       "      <td>32.0</td>\n",
       "      <td>sat</td>\n",
       "      <td>72622.36</td>\n",
       "    </tr>\n",
       "    <tr>\n",
       "      <th>16868</th>\n",
       "      <td>MediaMarkt</td>\n",
       "      <td>netherlands</td>\n",
       "      <td>EURO</td>\n",
       "      <td>839.0</td>\n",
       "      <td>694.0</td>\n",
       "      <td>49.0</td>\n",
       "      <td>tue</td>\n",
       "      <td>59254.09</td>\n",
       "    </tr>\n",
       "    <tr>\n",
       "      <th>13119</th>\n",
       "      <td>MediaMarkt</td>\n",
       "      <td>austria</td>\n",
       "      <td>EURO</td>\n",
       "      <td>500.0</td>\n",
       "      <td>399.0</td>\n",
       "      <td>41.0</td>\n",
       "      <td>tue</td>\n",
       "      <td>57599.32</td>\n",
       "    </tr>\n",
       "    <tr>\n",
       "      <th>852</th>\n",
       "      <td>MediaMarkt</td>\n",
       "      <td>netherlands</td>\n",
       "      <td>EURO</td>\n",
       "      <td>338.0</td>\n",
       "      <td>645.0</td>\n",
       "      <td>33.0</td>\n",
       "      <td>thu</td>\n",
       "      <td>56800.71</td>\n",
       "    </tr>\n",
       "    <tr>\n",
       "      <th>...</th>\n",
       "      <td>...</td>\n",
       "      <td>...</td>\n",
       "      <td>...</td>\n",
       "      <td>...</td>\n",
       "      <td>...</td>\n",
       "      <td>...</td>\n",
       "      <td>...</td>\n",
       "      <td>...</td>\n",
       "    </tr>\n",
       "    <tr>\n",
       "      <th>5569</th>\n",
       "      <td>MediaMarkt</td>\n",
       "      <td>spain</td>\n",
       "      <td>EURO</td>\n",
       "      <td>2831.0</td>\n",
       "      <td>106.0</td>\n",
       "      <td>34.0</td>\n",
       "      <td>sat</td>\n",
       "      <td>73451.56</td>\n",
       "    </tr>\n",
       "    <tr>\n",
       "      <th>8782</th>\n",
       "      <td>MediaMarkt</td>\n",
       "      <td>spain</td>\n",
       "      <td>EURO</td>\n",
       "      <td>363.0</td>\n",
       "      <td>142.0</td>\n",
       "      <td>17.0</td>\n",
       "      <td>thu</td>\n",
       "      <td>56734.23</td>\n",
       "    </tr>\n",
       "    <tr>\n",
       "      <th>16920</th>\n",
       "      <td>MediaMarkt</td>\n",
       "      <td>austria</td>\n",
       "      <td>EURO</td>\n",
       "      <td>322.0</td>\n",
       "      <td>342.0</td>\n",
       "      <td>28.0</td>\n",
       "      <td>thu</td>\n",
       "      <td>56429.73</td>\n",
       "    </tr>\n",
       "    <tr>\n",
       "      <th>7454</th>\n",
       "      <td>Saturn</td>\n",
       "      <td>germany</td>\n",
       "      <td>EURO</td>\n",
       "      <td>1513.0</td>\n",
       "      <td>81.0</td>\n",
       "      <td>6.0</td>\n",
       "      <td>sat</td>\n",
       "      <td>67550.09</td>\n",
       "    </tr>\n",
       "    <tr>\n",
       "      <th>14396</th>\n",
       "      <td>MediaMarkt</td>\n",
       "      <td>italy</td>\n",
       "      <td>EURO</td>\n",
       "      <td>536.0</td>\n",
       "      <td>598.0</td>\n",
       "      <td>38.0</td>\n",
       "      <td>tue</td>\n",
       "      <td>52738.21</td>\n",
       "    </tr>\n",
       "  </tbody>\n",
       "</table>\n",
       "<p>18207 rows × 8 columns</p>\n",
       "</div>"
      ],
      "text/plain": [
       "            brand      country currency  customers_per_day  outlet_id  \\\n",
       "6780   MediaMarkt  switzerland      CHF             2012.0      421.0   \n",
       "17487      Saturn  netherlands     EURO             2884.0      698.0   \n",
       "16868  MediaMarkt  netherlands     EURO              839.0      694.0   \n",
       "13119  MediaMarkt      austria     EURO              500.0      399.0   \n",
       "852    MediaMarkt  netherlands     EURO              338.0      645.0   \n",
       "...           ...          ...      ...                ...        ...   \n",
       "5569   MediaMarkt        spain     EURO             2831.0      106.0   \n",
       "8782   MediaMarkt        spain     EURO              363.0      142.0   \n",
       "16920  MediaMarkt      austria     EURO              322.0      342.0   \n",
       "7454       Saturn      germany     EURO             1513.0       81.0   \n",
       "14396  MediaMarkt        italy     EURO              536.0      598.0   \n",
       "\n",
       "       week_id weekday  sales_per_day  \n",
       "6780      11.0     fri       57839.82  \n",
       "17487     32.0     sat       72622.36  \n",
       "16868     49.0     tue       59254.09  \n",
       "13119     41.0     tue       57599.32  \n",
       "852       33.0     thu       56800.71  \n",
       "...        ...     ...            ...  \n",
       "5569      34.0     sat       73451.56  \n",
       "8782      17.0     thu       56734.23  \n",
       "16920     28.0     thu       56429.73  \n",
       "7454       6.0     sat       67550.09  \n",
       "14396     38.0     tue       52738.21  \n",
       "\n",
       "[18207 rows x 8 columns]"
      ]
     },
     "execution_count": 12,
     "metadata": {},
     "output_type": "execute_result"
    }
   ],
   "source": [
    "# TODO ... Python coding ... \n",
    "#\n",
    "import pandas as pd\n",
    "import numpy as np\n",
    "import seaborn as sns\n",
    "#\n",
    "df = pd.read_csv(\"C:/Users/khurr/Documents/GitHub/MM/data.csv\",sep=';')\n",
    "df = df.sample(frac=1) #Shuffeling DF.\n",
    "df"
   ]
  },
  {
   "cell_type": "code",
   "execution_count": 13,
   "metadata": {},
   "outputs": [],
   "source": [
    "def set_color():\n",
    "    return ['gold','red', 'green', 'blue','purple','orange','black','brown']\n",
    "#\n",
    "def df_lookslike(v_df):\n",
    "    #---------------------------------------How dataframe looks like?\n",
    "    v_df.info()\n",
    "    print(v_df.head(5))\n",
    "    total_cells=np.product(v_df.shape)\n",
    "    print(\"TSUM\",total_cells)\n",
    "    num_col = [i for i in v_df.columns if (v_df[i].dtype=='int64' or v_df[i].dtype=='float64')]\n",
    "    print(v_df[num_col].describe().loc[['min','max', 'mean','50%'],:]) #How big is Messy data?\n",
    "    missing_Values=v_df.isnull().sum()\n",
    "    print(missing_Values)\n",
    "    total_missing=missing_Values.sum()\n",
    "\n",
    "    #Percent of Missing data\n",
    "    print(\"Percent of data is missing:\",((total_missing/total_cells) * 100))\n",
    "    "
   ]
  },
  {
   "cell_type": "code",
   "execution_count": 14,
   "metadata": {},
   "outputs": [
    {
     "name": "stdout",
     "output_type": "stream",
     "text": [
      "<class 'pandas.core.frame.DataFrame'>\n",
      "Int64Index: 18207 entries, 6780 to 14396\n",
      "Data columns (total 8 columns):\n",
      " #   Column             Non-Null Count  Dtype  \n",
      "---  ------             --------------  -----  \n",
      " 0   brand              18174 non-null  object \n",
      " 1   country            18185 non-null  object \n",
      " 2   currency           18184 non-null  object \n",
      " 3   customers_per_day  18199 non-null  float64\n",
      " 4   outlet_id          18194 non-null  float64\n",
      " 5   week_id            18194 non-null  float64\n",
      " 6   weekday            18170 non-null  object \n",
      " 7   sales_per_day      18193 non-null  float64\n",
      "dtypes: float64(4), object(4)\n",
      "memory usage: 1.3+ MB\n",
      "            brand      country currency  customers_per_day  outlet_id  \\\n",
      "6780   MediaMarkt  switzerland      CHF             2012.0      421.0   \n",
      "17487      Saturn  netherlands     EURO             2884.0      698.0   \n",
      "16868  MediaMarkt  netherlands     EURO              839.0      694.0   \n",
      "13119  MediaMarkt      austria     EURO              500.0      399.0   \n",
      "852    MediaMarkt  netherlands     EURO              338.0      645.0   \n",
      "\n",
      "       week_id weekday  sales_per_day  \n",
      "6780      11.0     fri       57839.82  \n",
      "17487     32.0     sat       72622.36  \n",
      "16868     49.0     tue       59254.09  \n",
      "13119     41.0     tue       57599.32  \n",
      "852       33.0     thu       56800.71  \n",
      "TSUM 145656\n",
      "      customers_per_day      outlet_id        week_id  sales_per_day\n",
      "min      -999999.000000 -999999.000000 -999999.000000 -999999.000000\n",
      "max         4734.000000     698.000000      52.000000   96225.530000\n",
      "mean         259.351503    -301.265747    -852.575684   50823.378059\n",
      "50%          550.000000     255.000000      27.000000   57319.920000\n",
      "brand                33\n",
      "country              22\n",
      "currency             23\n",
      "customers_per_day     8\n",
      "outlet_id            13\n",
      "week_id              13\n",
      "weekday              37\n",
      "sales_per_day        14\n",
      "dtype: int64\n",
      "Percent of data is missing: 0.11190750810127974\n"
     ]
    },
    {
     "data": {
      "text/plain": [
       "<AxesSubplot:>"
      ]
     },
     "execution_count": 14,
     "metadata": {},
     "output_type": "execute_result"
    },
    {
     "data": {
      "image/png": "[encoded data removed]",
      "text/plain": [
       "<Figure size 432x288 with 2 Axes>"
      ]
     },
     "metadata": {
      "needs_background": "light"
     },
     "output_type": "display_data"
    }
   ],
   "source": [
    "#How df looks like?\n",
    "#\n",
    "df_lookslike(df)# How DF looks like?\n",
    "#Missing value visualization\n",
    "sns.heatmap(df.isnull(), \n",
    "            yticklabels=False, \n",
    "            cbar=True, \n",
    "            cmap='viridis')"
   ]
  },
  {
   "cell_type": "markdown",
   "metadata": {},
   "source": [
    "# Data Preprocessing"
   ]
  },
  {
   "cell_type": "markdown",
   "metadata": {},
   "source": [
    "# 1). Handling missing values\n",
    "Data contains missing values thus i'm going to fix it at DF Level. Hence, Model doesn't confuse on Test_Data."
   ]
  },
  {
   "cell_type": "code",
   "execution_count": 15,
   "metadata": {},
   "outputs": [
    {
     "name": "stdout",
     "output_type": "stream",
     "text": [
      "<class 'pandas.core.frame.DataFrame'>\n",
      "Int64Index: 18207 entries, 6780 to 14396\n",
      "Data columns (total 8 columns):\n",
      " #   Column             Non-Null Count  Dtype  \n",
      "---  ------             --------------  -----  \n",
      " 0   brand              18207 non-null  object \n",
      " 1   country            18207 non-null  object \n",
      " 2   currency           18207 non-null  object \n",
      " 3   customers_per_day  18207 non-null  float64\n",
      " 4   outlet_id          18207 non-null  float64\n",
      " 5   week_id            18207 non-null  float64\n",
      " 6   weekday            18207 non-null  object \n",
      " 7   sales_per_day      18207 non-null  float64\n",
      "dtypes: float64(4), object(4)\n",
      "memory usage: 1.3+ MB\n",
      "            brand      country currency  customers_per_day  outlet_id  \\\n",
      "6780   MediaMarkt  switzerland      CHF             2012.0      421.0   \n",
      "17487      Saturn  netherlands     EURO             2884.0      698.0   \n",
      "16868  MediaMarkt  netherlands     EURO              839.0      694.0   \n",
      "13119  MediaMarkt      austria     EURO              500.0      399.0   \n",
      "852    MediaMarkt  netherlands     EURO              338.0      645.0   \n",
      "\n",
      "       week_id weekday  sales_per_day  \n",
      "6780      11.0     fri       57839.82  \n",
      "17487     32.0     sat       72622.36  \n",
      "16868     49.0     tue       59254.09  \n",
      "13119     41.0     tue       57599.32  \n",
      "852       33.0     thu       56800.71  \n",
      "TSUM 145656\n",
      "      customers_per_day  outlet_id    week_id  sales_per_day\n",
      "min            0.000000    0.00000   0.000000       0.000000\n",
      "max         4734.000000  698.00000  52.000000   96225.530000\n",
      "mean         973.247927  303.11199  26.815071   51223.689187\n",
      "50%          550.000000  255.00000  27.000000   57310.430000\n",
      "brand                0\n",
      "country              0\n",
      "currency             0\n",
      "customers_per_day    0\n",
      "outlet_id            0\n",
      "week_id              0\n",
      "weekday              0\n",
      "sales_per_day        0\n",
      "dtype: int64\n",
      "Percent of data is missing: 0.0\n"
     ]
    }
   ],
   "source": [
    "#Data Cleansing\n",
    "#\n",
    "#To fix messy oder missing data, i'd like to:\n",
    "#Investigage the reason is this !recorded or doesn't exists?\n",
    "#How many % of data is missing\n",
    "#Discuss with an approach with source/concerned-team to build a consensus approach w.r.t Messy/missing data.\n",
    "#Data Imputation: Either Update missing data with MEAN, try to guess, oder replace with a special characters/strings ('unknown')/0.\n",
    "#The above line process called \"imputation\".\n",
    "#\n",
    "#Further, its NOT RECOMEND to remove Null/Missing Data until its in really small amount and major stackholder agree.\n",
    "\n",
    "import seaborn as sns\n",
    "df=df.replace(-999999.0,0)    #Replace ALL -99999 with 0 at DF Level----------------------------------\n",
    "values = {'brand':'Unknown','country':'Unknown','currency':'Unknown','customers_per_day':0,'outlet_id':0,'week_id':0,'weekday':'Unknown','sales_per_day':0}\n",
    "df=df.fillna(value=values)    #Exchange NULLs in ALL Columns with 'Unknown' Oder 0 at DF Level--------\n",
    "df_lookslike(df)              #How dataframe looks like?\n",
    "###\n"
   ]
  },
  {
   "cell_type": "markdown",
   "metadata": {},
   "source": [
    "# 2). Data Vectorization\n",
    "Preparing Tensors (by applying different Encoding)"
   ]
  },
  {
   "cell_type": "code",
   "execution_count": 16,
   "metadata": {},
   "outputs": [
    {
     "name": "stdout",
     "output_type": "stream",
     "text": [
      "       brand  country  currency  customers_per_day  outlet_id  week_id  \\\n",
      "6780       0        7         0             2012.0      421.0     11.0   \n",
      "17487      1        5         1             2884.0      698.0     32.0   \n",
      "16868      0        5         1              839.0      694.0     49.0   \n",
      "13119      0        1         1              500.0      399.0     41.0   \n",
      "852        0        5         1              338.0      645.0     33.0   \n",
      "\n",
      "       weekday  sales_per_day  \n",
      "6780         1       57839.82  \n",
      "17487        3       72622.36  \n",
      "16868        6       59254.09  \n",
      "13119        6       57599.32  \n",
      "852          5       56800.71  \n"
     ]
    }
   ],
   "source": [
    "# I am going to convert data into numeric values by using following technique und check the score for each case.\n",
    "########################################################################################################################################\n",
    "#Test Case-1:Integer Encoding   :(\n",
    "#Test Case-2:OneHot Encoding    :)\n",
    "#Test Case-2:Dummy Variable     Encoding.\n",
    "################################################Test Case-1:Integer Encoding (Manually)#################################################\n",
    "#df['brand']=df['brand'].map({'MediaMarkt':1,'Saturn':2,'Unknown':0})\n",
    "#df['country']=df['country'].map({'germany':1,'switzerland':2,'austria':3,'netherlands':4,'spain':5,'greece':6,'Unknown':0})\n",
    "#df['country']=df['country'].fillna(0)\n",
    "#df['currency']=df['currency'].map({'TWO':2,'FOUR':4})\n",
    "#df['weekday']=df['weekday'].map({'mon':1,'tue':2,'wed':3,'thu':4,'fri':5,'sat':6,'sun':7,'Unknown':0}) #Not ideal as changing weightage\n",
    "#print(df['brand'].unique())\n",
    "#df_lookslike(df)              #How dataframe looks like?\n",
    "################################################Test Case-2:One-Hot Encoding (via Pandas Manually)######################################\n",
    "#df = pd.get_dummies(df, columns=['brand', 'country','weekday'])\n",
    "################################################Test Case-3:Utilizing sklearn.preprocessing##############################################\n",
    "from sklearn.preprocessing import LabelEncoder\n",
    "label_enc=LabelEncoder()\n",
    "#The below one is the same like TEST-CASE:1. Hence, take care when a column has only 02 values  (Male, Female) as weightage may vary.\n",
    "df['brand']=label_enc.fit_transform(df['brand'])\n",
    "df['country']=label_enc.fit_transform(df['country'])\n",
    "df['currency']=label_enc.fit_transform(df['currency']) #Perhaps, later i drop it as i don't need. But lets see Heatmap based correlation.\n",
    "df['weekday']=label_enc.fit_transform(df['weekday'])\n",
    "print(df.head(5))\n",
    "\n",
    "#Overfitting and Underfitting \n",
    "#Optimization:  The process of adjusting a model to get the best possible performance.\n",
    "#generalization: How well Model works on unseen data. Model trained on huge data is better. Aber, it Overfits.\n",
    "#Regularization: Process of fixing Overfitting.\n",
    "# 1). Reducing N/W size ONLY on train data.\n",
    "# 2). Add weight regularization (L1, L2)\n",
    "# 3). Add dropout"
   ]
  },
  {
   "cell_type": "markdown",
   "metadata": {},
   "source": [
    "# 3). Data Correlation\n",
    "Identification of relationship/association b/w Dependent & Independent Variables"
   ]
  },
  {
   "cell_type": "code",
   "execution_count": 17,
   "metadata": {},
   "outputs": [
    {
     "data": {
      "image/png": "[encoded data removed]",
      "text/plain": [
       "<Figure size 2160x2160 with 2 Axes>"
      ]
     },
     "metadata": {
      "needs_background": "light"
     },
     "output_type": "display_data"
    }
   ],
   "source": [
    "import seaborn as sns\n",
    "import matplotlib.pyplot as plt\n",
    "#Analyzing correlation among all columns and Heatmap.\n",
    "# https://pandas.pydata.org/pandas-docs/stable/reference/api/pandas.DataFrame.corr.html?highlight=dataframe%20corr#pandas.DataFrame.corr\n",
    "# Helpful video: https://www.youtube.com/watch?v=ZynCwbZfCgY\n",
    "#Remeber: Mean/Median/Mode/Std/Variance are \"UNIVARIATE\" i.e. it can be extracted on single column values.\n",
    "#You can't extract (Mean/Median/Mode/Std/Variance) for more than 01 column.\n",
    "#The word \"CO\" represents the relationship/association b/w TWO columns.\n",
    "#Correlation is always b/w +1 and -1. If a relationship is ZERO or NEGATIVE then you may delete it.\n",
    "#\n",
    "#Remember:\n",
    "#Among Two or more dependent variables/Features should not have high Correlation/relatinship. Example: t-type of Salt in your meal.\n",
    "#Thus, you'll have to remove one dependent variable/feature as both are doing the same task.\n",
    "#\n",
    "#It ML we are performing Feature Engineering AND analyzing relationship with Correlation. However, in DEEPLEARNING its auto done.\n",
    "#\n",
    "\n",
    "corrmat = df.corr(method='pearson',min_periods=5) #pearson : standard correlation coefficient,\n",
    "top_corr_features = corrmat.index\n",
    "plt.figure(figsize=(30,30))\n",
    "g=sns.heatmap(df[top_corr_features].corr(),annot=True,cmap=\"RdYlGn\")"
   ]
  },
  {
   "cell_type": "markdown",
   "metadata": {},
   "source": [
    "# 4). Feature Engineering"
   ]
  },
  {
   "cell_type": "code",
   "execution_count": 18,
   "metadata": {},
   "outputs": [
    {
     "name": "stdout",
     "output_type": "stream",
     "text": [
      "Following are X:\n",
      "        brand  customers_per_day  outlet_id  week_id\n",
      "6780       0             2012.0      421.0     11.0\n",
      "17487      1             2884.0      698.0     32.0\n",
      "16868      0              839.0      694.0     49.0\n",
      "13119      0              500.0      399.0     41.0\n",
      "852        0              338.0      645.0     33.0\n",
      "...      ...                ...        ...      ...\n",
      "5569       0             2831.0      106.0     34.0\n",
      "8782       0              363.0      142.0     17.0\n",
      "16920      0              322.0      342.0     28.0\n",
      "7454       1             1513.0       81.0      6.0\n",
      "14396      0              536.0      598.0     38.0\n",
      "\n",
      "[18207 rows x 4 columns]\n",
      "\n",
      "Following is Y:\n",
      "        sales_per_day\n",
      "6780        57839.82\n",
      "17487       72622.36\n",
      "16868       59254.09\n",
      "13119       57599.32\n",
      "852         56800.71\n",
      "...              ...\n",
      "5569        73451.56\n",
      "8782        56734.23\n",
      "16920       56429.73\n",
      "7454        67550.09\n",
      "14396       52738.21\n",
      "\n",
      "[18207 rows x 1 columns]\n"
     ]
    }
   ],
   "source": [
    "#Identifying from the above Heatamp which columns are strongly correlated or weakly correlated.\n",
    "#I observed The Correlation between following columns were very weak.\n",
    "# 1). sales_per_day vs 'weekday'=-0.022 Its a very weak correlation/association. Thus, require deletion.\n",
    "# 2). sales_per_day vs 'currency'=-0.011 Its a very weak correlation/association. Thus, require deletion.\n",
    "# 3). sales_per_day vs 'currency'=-0.0053 ts a very weak correlation/association. Thus, require deletion.\n",
    "# Now, i'm removing weak correlated/relationship Independent Variable from df.\n",
    "#\n",
    "df.drop(columns=['weekday','currency','country'], inplace=True)\n",
    "#\n",
    "#Linear regression is a way to model the relationship between two variables.\n",
    "#The slope formula: Y = m*X + b\n",
    "#\n",
    "# Y: Dependent variable (i.e Sales_per_day)\n",
    "# X: Independent variable (All others/Features)\n",
    "# m: The slope (i.e. how steep the line goes)\n",
    "# b: The y-intercept/point where line cut the Y-axis\n",
    "# \n",
    "# \n",
    "#\n",
    "#\n",
    "# I have to predict \"Sales_per_day\". Thus, its the 'Dependent Variable' (Y) and all others are Independent variable (X).\n",
    "#The folllowing approach is safe as you don't modify your DF instead prefer to seperate Dependent & Independent Variable.\n",
    "#Y = df[\"sales_per_day\"] #Lets save this (Dependent/Target Variable)column for later usage and remove it from df.\n",
    "Y=(df.loc[:,df.columns=='sales_per_day']) #Lets take Dependent Variable/Target column from df.\n",
    "   \n",
    "X=(df.loc[:,df.columns!='sales_per_day']) #Lets take Independent Variable/ALL Features column from df.\n",
    "print(\"Following are X:\\n\",X)\n",
    "print(\"\\nFollowing is Y:\\n\",Y)\n",
    "#\n",
    "#\n",
    "#\n",
    "#Overfitting and Underfitting \n",
    "#Optimization:  The process of adjusting a model to get the best possible performance.\n",
    "#generalization: How well Model works on unseen data. Model trained on huge data is better. Aber, it Overfits.\n",
    "#Regularization: Process of fixing Overfitting.\n",
    "# 1). Reducing N/W size ONLY on train data.\n",
    "# 2). Add weight regularization (L1, L2)\n",
    "# 3). Add dropout"
   ]
  },
  {
   "cell_type": "markdown",
   "metadata": {},
   "source": [
    "# 5). Data Spliting (Training, Test)"
   ]
  },
  {
   "cell_type": "code",
   "execution_count": 19,
   "metadata": {},
   "outputs": [
    {
     "name": "stdout",
     "output_type": "stream",
     "text": [
      "Training Data-x:/Features: (14565, 4)\n",
      "Training Data-Y/Target: (14565, 1)\n",
      "Test Data: (3642, 4)\n"
     ]
    }
   ],
   "source": [
    "#splitting data into Training and Test(80 vs 20)\n",
    "#\n",
    "#Sogar, we may manually divide data. When doing manual work then don't forget to Shuffel.\n",
    "#However, in sklearn function shuffel parameter by defaul is True. But Remember Timeseries data shouldn't be shufel :)\n",
    "from sklearn.model_selection import train_test_split\n",
    "\n",
    "x_train,x_test,y_train,y_test=train_test_split(X,Y,test_size=0.2,random_state=0)\n",
    "print(\"Training Data-x:/Features:\", x_train.shape)\n",
    "print(\"Training Data-Y/Target:\", y_train.shape)\n",
    "print(\"Test Data:\", x_test.shape)"
   ]
  },
  {
   "cell_type": "markdown",
   "metadata": {},
   "source": [
    "# 6). Normalization\n",
    "Do i need to Normalize data?\n",
    "\n",
    "Its depending on your choice, exercise of your practice about how Model is behaving. You may /may Not do Normalization, try to understand how well model prediction is working. If its generating good result then perform and keep Normalization. If not then do not include in your model.\n",
    "\n",
    "For this case-study, I did the Normalization and learned the results are unacceptable. \n",
    "\n",
    "Thus, i disabled this part."
   ]
  },
  {
   "cell_type": "code",
   "execution_count": 20,
   "metadata": {},
   "outputs": [],
   "source": [
    "#Normalization of 1st THREE columns for Training data\n",
    "#\n",
    "#xtrain_mean = df.iloc[:, :3].mean(axis=0)\n",
    "#xtrain_std = df.iloc[:, :3].std(axis=0)\n",
    "#\n",
    "#df.iloc[:, :3] -= xtrain_mean\n",
    "#df.iloc[:, :3] /= xtrain_std\n",
    "#df\n",
    "\n",
    "#Normalization of 1st THREE columns for Training data\n",
    "#\n",
    "#ytrain_mean = y_train.mean(axis=0)\n",
    "#ytrain_std = y_train.std(axis=0)\n",
    "#\n",
    "#y_train -= ytrain_mean\n",
    "#y_train /= ytrain_std\n",
    "#y_train\n",
    "\n"
   ]
  },
  {
   "cell_type": "markdown",
   "metadata": {},
   "source": [
    "# 7). Linear Regression\n",
    "To make predictions in labeled sample data and the Data consists of predicting a continuous value."
   ]
  },
  {
   "cell_type": "code",
   "execution_count": 21,
   "metadata": {},
   "outputs": [
    {
     "name": "stdout",
     "output_type": "stream",
     "text": [
      "LR-Train score: 0.3973976424274054\n",
      "LR-Test score: 0.39878816038482945\n"
     ]
    }
   ],
   "source": [
    "# Building Regression Model\n",
    "# Finding/establishing a linear relationship between dependant & independent variable.\n",
    "#\n",
    "#Linear Models: https://scikit-learn.org/stable/modules/linear_model.html\n",
    "#\n",
    "#Case-1): LinearRegression:\n",
    "\n",
    "from sklearn.linear_model import LinearRegression\n",
    "LR_model=LinearRegression()\n",
    "LR_model.fit(x_train,y_train) #We are training.\n",
    "#LinearRegression(copy_X=True,fit_intercept=True,n_jobs=1,normalize=False)\n",
    "#\n",
    "print('LR-Train score:',LR_model.score(x_train,y_train))\n",
    "print('LR-Test score:' ,LR_model.score(x_test,y_test))\n",
    "##returns the coefficient of determination or R². Its maximum is 1. The higher the R² value, the better the fit."
   ]
  },
  {
   "cell_type": "markdown",
   "metadata": {},
   "source": [
    "# 8). The Regression model & most optimal coefficients for all the attributes"
   ]
  },
  {
   "cell_type": "code",
   "execution_count": 22,
   "metadata": {},
   "outputs": [
    {
     "ename": "ValueError",
     "evalue": "Shape of passed values is (1, 4), indices imply (4, 1)",
     "output_type": "error",
     "traceback": [
      "\u001b[1;31m---------------------------------------------------------------------------\u001b[0m",
      "\u001b[1;31mValueError\u001b[0m                                Traceback (most recent call last)",
      "\u001b[1;32mC:\\ProgramData\\Anaconda3\\lib\\site-packages\\pandas\\core\\internals\\managers.py\u001b[0m in \u001b[0;36mcreate_block_manager_from_blocks\u001b[1;34m(blocks, axes)\u001b[0m\n\u001b[0;32m   1661\u001b[0m                 blocks = [\n\u001b[1;32m-> 1662\u001b[1;33m                     \u001b[0mmake_block\u001b[0m\u001b[1;33m(\u001b[0m\u001b[0mvalues\u001b[0m\u001b[1;33m=\u001b[0m\u001b[0mblocks\u001b[0m\u001b[1;33m[\u001b[0m\u001b[1;36m0\u001b[0m\u001b[1;33m]\u001b[0m\u001b[1;33m,\u001b[0m \u001b[0mplacement\u001b[0m\u001b[1;33m=\u001b[0m\u001b[0mslice\u001b[0m\u001b[1;33m(\u001b[0m\u001b[1;36m0\u001b[0m\u001b[1;33m,\u001b[0m \u001b[0mlen\u001b[0m\u001b[1;33m(\u001b[0m\u001b[0maxes\u001b[0m\u001b[1;33m[\u001b[0m\u001b[1;36m0\u001b[0m\u001b[1;33m]\u001b[0m\u001b[1;33m)\u001b[0m\u001b[1;33m)\u001b[0m\u001b[1;33m)\u001b[0m\u001b[1;33m\u001b[0m\u001b[1;33m\u001b[0m\u001b[0m\n\u001b[0m\u001b[0;32m   1663\u001b[0m                 ]\n",
      "\u001b[1;32mC:\\ProgramData\\Anaconda3\\lib\\site-packages\\pandas\\core\\internals\\blocks.py\u001b[0m in \u001b[0;36mmake_block\u001b[1;34m(values, placement, klass, ndim, dtype)\u001b[0m\n\u001b[0;32m   2721\u001b[0m \u001b[1;33m\u001b[0m\u001b[0m\n\u001b[1;32m-> 2722\u001b[1;33m     \u001b[1;32mreturn\u001b[0m \u001b[0mklass\u001b[0m\u001b[1;33m(\u001b[0m\u001b[0mvalues\u001b[0m\u001b[1;33m,\u001b[0m \u001b[0mndim\u001b[0m\u001b[1;33m=\u001b[0m\u001b[0mndim\u001b[0m\u001b[1;33m,\u001b[0m \u001b[0mplacement\u001b[0m\u001b[1;33m=\u001b[0m\u001b[0mplacement\u001b[0m\u001b[1;33m)\u001b[0m\u001b[1;33m\u001b[0m\u001b[1;33m\u001b[0m\u001b[0m\n\u001b[0m\u001b[0;32m   2723\u001b[0m \u001b[1;33m\u001b[0m\u001b[0m\n",
      "\u001b[1;32mC:\\ProgramData\\Anaconda3\\lib\\site-packages\\pandas\\core\\internals\\blocks.py\u001b[0m in \u001b[0;36m__init__\u001b[1;34m(self, values, placement, ndim)\u001b[0m\n\u001b[0;32m    129\u001b[0m         \u001b[1;32mif\u001b[0m \u001b[0mself\u001b[0m\u001b[1;33m.\u001b[0m\u001b[0m_validate_ndim\u001b[0m \u001b[1;32mand\u001b[0m \u001b[0mself\u001b[0m\u001b[1;33m.\u001b[0m\u001b[0mndim\u001b[0m \u001b[1;32mand\u001b[0m \u001b[0mlen\u001b[0m\u001b[1;33m(\u001b[0m\u001b[0mself\u001b[0m\u001b[1;33m.\u001b[0m\u001b[0mmgr_locs\u001b[0m\u001b[1;33m)\u001b[0m \u001b[1;33m!=\u001b[0m \u001b[0mlen\u001b[0m\u001b[1;33m(\u001b[0m\u001b[0mself\u001b[0m\u001b[1;33m.\u001b[0m\u001b[0mvalues\u001b[0m\u001b[1;33m)\u001b[0m\u001b[1;33m:\u001b[0m\u001b[1;33m\u001b[0m\u001b[1;33m\u001b[0m\u001b[0m\n\u001b[1;32m--> 130\u001b[1;33m             raise ValueError(\n\u001b[0m\u001b[0;32m    131\u001b[0m                 \u001b[1;34mf\"Wrong number of items passed {len(self.values)}, \"\u001b[0m\u001b[1;33m\u001b[0m\u001b[1;33m\u001b[0m\u001b[0m\n",
      "\u001b[1;31mValueError\u001b[0m: Wrong number of items passed 4, placement implies 1",
      "\nDuring handling of the above exception, another exception occurred:\n",
      "\u001b[1;31mValueError\u001b[0m                                Traceback (most recent call last)",
      "\u001b[1;32m<ipython-input-22-87079e19ab81>\u001b[0m in \u001b[0;36m<module>\u001b[1;34m\u001b[0m\n\u001b[1;32m----> 1\u001b[1;33m \u001b[0mcoeff_df\u001b[0m \u001b[1;33m=\u001b[0m \u001b[0mpd\u001b[0m\u001b[1;33m.\u001b[0m\u001b[0mDataFrame\u001b[0m\u001b[1;33m(\u001b[0m\u001b[0mLR_model\u001b[0m\u001b[1;33m.\u001b[0m\u001b[0mcoef_\u001b[0m\u001b[1;33m,\u001b[0m \u001b[0mX\u001b[0m\u001b[1;33m.\u001b[0m\u001b[0mcolumns\u001b[0m\u001b[1;33m,\u001b[0m \u001b[0mcolumns\u001b[0m\u001b[1;33m=\u001b[0m\u001b[1;33m[\u001b[0m\u001b[1;34m'Coefficient'\u001b[0m\u001b[1;33m]\u001b[0m\u001b[1;33m)\u001b[0m\u001b[1;33m\u001b[0m\u001b[1;33m\u001b[0m\u001b[0m\n\u001b[0m\u001b[0;32m      2\u001b[0m \u001b[0mprint\u001b[0m\u001b[1;33m(\u001b[0m\u001b[1;34m\"Coefficient:\"\u001b[0m\u001b[1;33m,\u001b[0m\u001b[0mcoeff_df\u001b[0m\u001b[1;33m)\u001b[0m\u001b[1;33m\u001b[0m\u001b[1;33m\u001b[0m\u001b[0m\n\u001b[0;32m      3\u001b[0m \u001b[1;31m##returns the coefficient of determination or R². Its maximum is 1. The higher the R² value, the better the fit.\u001b[0m\u001b[1;33m\u001b[0m\u001b[1;33m\u001b[0m\u001b[1;33m\u001b[0m\u001b[0m\n",
      "\u001b[1;32mC:\\ProgramData\\Anaconda3\\lib\\site-packages\\pandas\\core\\frame.py\u001b[0m in \u001b[0;36m__init__\u001b[1;34m(self, data, index, columns, dtype, copy)\u001b[0m\n\u001b[0;32m    495\u001b[0m                 \u001b[0mmgr\u001b[0m \u001b[1;33m=\u001b[0m \u001b[0minit_dict\u001b[0m\u001b[1;33m(\u001b[0m\u001b[1;33m{\u001b[0m\u001b[0mdata\u001b[0m\u001b[1;33m.\u001b[0m\u001b[0mname\u001b[0m\u001b[1;33m:\u001b[0m \u001b[0mdata\u001b[0m\u001b[1;33m}\u001b[0m\u001b[1;33m,\u001b[0m \u001b[0mindex\u001b[0m\u001b[1;33m,\u001b[0m \u001b[0mcolumns\u001b[0m\u001b[1;33m,\u001b[0m \u001b[0mdtype\u001b[0m\u001b[1;33m=\u001b[0m\u001b[0mdtype\u001b[0m\u001b[1;33m)\u001b[0m\u001b[1;33m\u001b[0m\u001b[1;33m\u001b[0m\u001b[0m\n\u001b[0;32m    496\u001b[0m             \u001b[1;32melse\u001b[0m\u001b[1;33m:\u001b[0m\u001b[1;33m\u001b[0m\u001b[1;33m\u001b[0m\u001b[0m\n\u001b[1;32m--> 497\u001b[1;33m                 \u001b[0mmgr\u001b[0m \u001b[1;33m=\u001b[0m \u001b[0minit_ndarray\u001b[0m\u001b[1;33m(\u001b[0m\u001b[0mdata\u001b[0m\u001b[1;33m,\u001b[0m \u001b[0mindex\u001b[0m\u001b[1;33m,\u001b[0m \u001b[0mcolumns\u001b[0m\u001b[1;33m,\u001b[0m \u001b[0mdtype\u001b[0m\u001b[1;33m=\u001b[0m\u001b[0mdtype\u001b[0m\u001b[1;33m,\u001b[0m \u001b[0mcopy\u001b[0m\u001b[1;33m=\u001b[0m\u001b[0mcopy\u001b[0m\u001b[1;33m)\u001b[0m\u001b[1;33m\u001b[0m\u001b[1;33m\u001b[0m\u001b[0m\n\u001b[0m\u001b[0;32m    498\u001b[0m \u001b[1;33m\u001b[0m\u001b[0m\n\u001b[0;32m    499\u001b[0m         \u001b[1;31m# For data is list-like, or Iterable (will consume into list)\u001b[0m\u001b[1;33m\u001b[0m\u001b[1;33m\u001b[0m\u001b[1;33m\u001b[0m\u001b[0m\n",
      "\u001b[1;32mC:\\ProgramData\\Anaconda3\\lib\\site-packages\\pandas\\core\\internals\\construction.py\u001b[0m in \u001b[0;36minit_ndarray\u001b[1;34m(values, index, columns, dtype, copy)\u001b[0m\n\u001b[0;32m    232\u001b[0m         \u001b[0mblock_values\u001b[0m \u001b[1;33m=\u001b[0m \u001b[1;33m[\u001b[0m\u001b[0mvalues\u001b[0m\u001b[1;33m]\u001b[0m\u001b[1;33m\u001b[0m\u001b[1;33m\u001b[0m\u001b[0m\n\u001b[0;32m    233\u001b[0m \u001b[1;33m\u001b[0m\u001b[0m\n\u001b[1;32m--> 234\u001b[1;33m     \u001b[1;32mreturn\u001b[0m \u001b[0mcreate_block_manager_from_blocks\u001b[0m\u001b[1;33m(\u001b[0m\u001b[0mblock_values\u001b[0m\u001b[1;33m,\u001b[0m \u001b[1;33m[\u001b[0m\u001b[0mcolumns\u001b[0m\u001b[1;33m,\u001b[0m \u001b[0mindex\u001b[0m\u001b[1;33m]\u001b[0m\u001b[1;33m)\u001b[0m\u001b[1;33m\u001b[0m\u001b[1;33m\u001b[0m\u001b[0m\n\u001b[0m\u001b[0;32m    235\u001b[0m \u001b[1;33m\u001b[0m\u001b[0m\n\u001b[0;32m    236\u001b[0m \u001b[1;33m\u001b[0m\u001b[0m\n",
      "\u001b[1;32mC:\\ProgramData\\Anaconda3\\lib\\site-packages\\pandas\\core\\internals\\managers.py\u001b[0m in \u001b[0;36mcreate_block_manager_from_blocks\u001b[1;34m(blocks, axes)\u001b[0m\n\u001b[0;32m   1670\u001b[0m         \u001b[0mblocks\u001b[0m \u001b[1;33m=\u001b[0m \u001b[1;33m[\u001b[0m\u001b[0mgetattr\u001b[0m\u001b[1;33m(\u001b[0m\u001b[0mb\u001b[0m\u001b[1;33m,\u001b[0m \u001b[1;34m\"values\"\u001b[0m\u001b[1;33m,\u001b[0m \u001b[0mb\u001b[0m\u001b[1;33m)\u001b[0m \u001b[1;32mfor\u001b[0m \u001b[0mb\u001b[0m \u001b[1;32min\u001b[0m \u001b[0mblocks\u001b[0m\u001b[1;33m]\u001b[0m\u001b[1;33m\u001b[0m\u001b[1;33m\u001b[0m\u001b[0m\n\u001b[0;32m   1671\u001b[0m         \u001b[0mtot_items\u001b[0m \u001b[1;33m=\u001b[0m \u001b[0msum\u001b[0m\u001b[1;33m(\u001b[0m\u001b[0mb\u001b[0m\u001b[1;33m.\u001b[0m\u001b[0mshape\u001b[0m\u001b[1;33m[\u001b[0m\u001b[1;36m0\u001b[0m\u001b[1;33m]\u001b[0m \u001b[1;32mfor\u001b[0m \u001b[0mb\u001b[0m \u001b[1;32min\u001b[0m \u001b[0mblocks\u001b[0m\u001b[1;33m)\u001b[0m\u001b[1;33m\u001b[0m\u001b[1;33m\u001b[0m\u001b[0m\n\u001b[1;32m-> 1672\u001b[1;33m         \u001b[1;32mraise\u001b[0m \u001b[0mconstruction_error\u001b[0m\u001b[1;33m(\u001b[0m\u001b[0mtot_items\u001b[0m\u001b[1;33m,\u001b[0m \u001b[0mblocks\u001b[0m\u001b[1;33m[\u001b[0m\u001b[1;36m0\u001b[0m\u001b[1;33m]\u001b[0m\u001b[1;33m.\u001b[0m\u001b[0mshape\u001b[0m\u001b[1;33m[\u001b[0m\u001b[1;36m1\u001b[0m\u001b[1;33m:\u001b[0m\u001b[1;33m]\u001b[0m\u001b[1;33m,\u001b[0m \u001b[0maxes\u001b[0m\u001b[1;33m,\u001b[0m \u001b[0me\u001b[0m\u001b[1;33m)\u001b[0m\u001b[1;33m\u001b[0m\u001b[1;33m\u001b[0m\u001b[0m\n\u001b[0m\u001b[0;32m   1673\u001b[0m \u001b[1;33m\u001b[0m\u001b[0m\n\u001b[0;32m   1674\u001b[0m \u001b[1;33m\u001b[0m\u001b[0m\n",
      "\u001b[1;31mValueError\u001b[0m: Shape of passed values is (1, 4), indices imply (4, 1)"
     ]
    }
   ],
   "source": [
    "coeff_df = pd.DataFrame(LR_model.coef_, X.columns, columns=['Coefficient'])\n",
    "print(\"Coefficient:\",coeff_df)\n",
    "##returns the coefficient of determination or R². Its maximum is 1. The higher the R² value, the better the fit."
   ]
  },
  {
   "cell_type": "markdown",
   "metadata": {},
   "source": [
    "# 9). Actual Vs Prediction"
   ]
  },
  {
   "cell_type": "code",
   "execution_count": 23,
   "metadata": {},
   "outputs": [
    {
     "ename": "ValueError",
     "evalue": "If using all scalar values, you must pass an index",
     "output_type": "error",
     "traceback": [
      "\u001b[1;31m---------------------------------------------------------------------------\u001b[0m",
      "\u001b[1;31mValueError\u001b[0m                                Traceback (most recent call last)",
      "\u001b[1;32m<ipython-input-23-f41bdd2bd06f>\u001b[0m in \u001b[0;36m<module>\u001b[1;34m\u001b[0m\n\u001b[0;32m      1\u001b[0m \u001b[0my_pred\u001b[0m \u001b[1;33m=\u001b[0m \u001b[0mLR_model\u001b[0m\u001b[1;33m.\u001b[0m\u001b[0mpredict\u001b[0m\u001b[1;33m(\u001b[0m\u001b[0mx_test\u001b[0m\u001b[1;33m)\u001b[0m\u001b[1;33m\u001b[0m\u001b[1;33m\u001b[0m\u001b[0m\n\u001b[1;32m----> 2\u001b[1;33m \u001b[0mpredf\u001b[0m\u001b[1;33m=\u001b[0m\u001b[0mpd\u001b[0m\u001b[1;33m.\u001b[0m\u001b[0mDataFrame\u001b[0m\u001b[1;33m(\u001b[0m\u001b[1;33m{\u001b[0m\u001b[1;34m'Actual'\u001b[0m\u001b[1;33m:\u001b[0m \u001b[0my_test\u001b[0m\u001b[1;33m,\u001b[0m \u001b[1;34m'Predicted'\u001b[0m\u001b[1;33m:\u001b[0m \u001b[0my_pred\u001b[0m\u001b[1;33m}\u001b[0m\u001b[1;33m)\u001b[0m\u001b[1;33m\u001b[0m\u001b[1;33m\u001b[0m\u001b[0m\n\u001b[0m\u001b[0;32m      3\u001b[0m \u001b[0mpredf\u001b[0m\u001b[1;33m\u001b[0m\u001b[1;33m\u001b[0m\u001b[0m\n",
      "\u001b[1;32mC:\\ProgramData\\Anaconda3\\lib\\site-packages\\pandas\\core\\frame.py\u001b[0m in \u001b[0;36m__init__\u001b[1;34m(self, data, index, columns, dtype, copy)\u001b[0m\n\u001b[0;32m    466\u001b[0m \u001b[1;33m\u001b[0m\u001b[0m\n\u001b[0;32m    467\u001b[0m         \u001b[1;32melif\u001b[0m \u001b[0misinstance\u001b[0m\u001b[1;33m(\u001b[0m\u001b[0mdata\u001b[0m\u001b[1;33m,\u001b[0m \u001b[0mdict\u001b[0m\u001b[1;33m)\u001b[0m\u001b[1;33m:\u001b[0m\u001b[1;33m\u001b[0m\u001b[1;33m\u001b[0m\u001b[0m\n\u001b[1;32m--> 468\u001b[1;33m             \u001b[0mmgr\u001b[0m \u001b[1;33m=\u001b[0m \u001b[0minit_dict\u001b[0m\u001b[1;33m(\u001b[0m\u001b[0mdata\u001b[0m\u001b[1;33m,\u001b[0m \u001b[0mindex\u001b[0m\u001b[1;33m,\u001b[0m \u001b[0mcolumns\u001b[0m\u001b[1;33m,\u001b[0m \u001b[0mdtype\u001b[0m\u001b[1;33m=\u001b[0m\u001b[0mdtype\u001b[0m\u001b[1;33m)\u001b[0m\u001b[1;33m\u001b[0m\u001b[1;33m\u001b[0m\u001b[0m\n\u001b[0m\u001b[0;32m    469\u001b[0m         \u001b[1;32melif\u001b[0m \u001b[0misinstance\u001b[0m\u001b[1;33m(\u001b[0m\u001b[0mdata\u001b[0m\u001b[1;33m,\u001b[0m \u001b[0mma\u001b[0m\u001b[1;33m.\u001b[0m\u001b[0mMaskedArray\u001b[0m\u001b[1;33m)\u001b[0m\u001b[1;33m:\u001b[0m\u001b[1;33m\u001b[0m\u001b[1;33m\u001b[0m\u001b[0m\n\u001b[0;32m    470\u001b[0m             \u001b[1;32mimport\u001b[0m \u001b[0mnumpy\u001b[0m\u001b[1;33m.\u001b[0m\u001b[0mma\u001b[0m\u001b[1;33m.\u001b[0m\u001b[0mmrecords\u001b[0m \u001b[1;32mas\u001b[0m \u001b[0mmrecords\u001b[0m\u001b[1;33m\u001b[0m\u001b[1;33m\u001b[0m\u001b[0m\n",
      "\u001b[1;32mC:\\ProgramData\\Anaconda3\\lib\\site-packages\\pandas\\core\\internals\\construction.py\u001b[0m in \u001b[0;36minit_dict\u001b[1;34m(data, index, columns, dtype)\u001b[0m\n\u001b[0;32m    281\u001b[0m             \u001b[0marr\u001b[0m \u001b[1;32mif\u001b[0m \u001b[1;32mnot\u001b[0m \u001b[0mis_datetime64tz_dtype\u001b[0m\u001b[1;33m(\u001b[0m\u001b[0marr\u001b[0m\u001b[1;33m)\u001b[0m \u001b[1;32melse\u001b[0m \u001b[0marr\u001b[0m\u001b[1;33m.\u001b[0m\u001b[0mcopy\u001b[0m\u001b[1;33m(\u001b[0m\u001b[1;33m)\u001b[0m \u001b[1;32mfor\u001b[0m \u001b[0marr\u001b[0m \u001b[1;32min\u001b[0m \u001b[0marrays\u001b[0m\u001b[1;33m\u001b[0m\u001b[1;33m\u001b[0m\u001b[0m\n\u001b[0;32m    282\u001b[0m         ]\n\u001b[1;32m--> 283\u001b[1;33m     \u001b[1;32mreturn\u001b[0m \u001b[0marrays_to_mgr\u001b[0m\u001b[1;33m(\u001b[0m\u001b[0marrays\u001b[0m\u001b[1;33m,\u001b[0m \u001b[0mdata_names\u001b[0m\u001b[1;33m,\u001b[0m \u001b[0mindex\u001b[0m\u001b[1;33m,\u001b[0m \u001b[0mcolumns\u001b[0m\u001b[1;33m,\u001b[0m \u001b[0mdtype\u001b[0m\u001b[1;33m=\u001b[0m\u001b[0mdtype\u001b[0m\u001b[1;33m)\u001b[0m\u001b[1;33m\u001b[0m\u001b[1;33m\u001b[0m\u001b[0m\n\u001b[0m\u001b[0;32m    284\u001b[0m \u001b[1;33m\u001b[0m\u001b[0m\n\u001b[0;32m    285\u001b[0m \u001b[1;33m\u001b[0m\u001b[0m\n",
      "\u001b[1;32mC:\\ProgramData\\Anaconda3\\lib\\site-packages\\pandas\\core\\internals\\construction.py\u001b[0m in \u001b[0;36marrays_to_mgr\u001b[1;34m(arrays, arr_names, index, columns, dtype, verify_integrity)\u001b[0m\n\u001b[0;32m     76\u001b[0m         \u001b[1;31m# figure out the index, if necessary\u001b[0m\u001b[1;33m\u001b[0m\u001b[1;33m\u001b[0m\u001b[1;33m\u001b[0m\u001b[0m\n\u001b[0;32m     77\u001b[0m         \u001b[1;32mif\u001b[0m \u001b[0mindex\u001b[0m \u001b[1;32mis\u001b[0m \u001b[1;32mNone\u001b[0m\u001b[1;33m:\u001b[0m\u001b[1;33m\u001b[0m\u001b[1;33m\u001b[0m\u001b[0m\n\u001b[1;32m---> 78\u001b[1;33m             \u001b[0mindex\u001b[0m \u001b[1;33m=\u001b[0m \u001b[0mextract_index\u001b[0m\u001b[1;33m(\u001b[0m\u001b[0marrays\u001b[0m\u001b[1;33m)\u001b[0m\u001b[1;33m\u001b[0m\u001b[1;33m\u001b[0m\u001b[0m\n\u001b[0m\u001b[0;32m     79\u001b[0m         \u001b[1;32melse\u001b[0m\u001b[1;33m:\u001b[0m\u001b[1;33m\u001b[0m\u001b[1;33m\u001b[0m\u001b[0m\n\u001b[0;32m     80\u001b[0m             \u001b[0mindex\u001b[0m \u001b[1;33m=\u001b[0m \u001b[0mensure_index\u001b[0m\u001b[1;33m(\u001b[0m\u001b[0mindex\u001b[0m\u001b[1;33m)\u001b[0m\u001b[1;33m\u001b[0m\u001b[1;33m\u001b[0m\u001b[0m\n",
      "\u001b[1;32mC:\\ProgramData\\Anaconda3\\lib\\site-packages\\pandas\\core\\internals\\construction.py\u001b[0m in \u001b[0;36mextract_index\u001b[1;34m(data)\u001b[0m\n\u001b[0;32m    385\u001b[0m \u001b[1;33m\u001b[0m\u001b[0m\n\u001b[0;32m    386\u001b[0m         \u001b[1;32mif\u001b[0m \u001b[1;32mnot\u001b[0m \u001b[0mindexes\u001b[0m \u001b[1;32mand\u001b[0m \u001b[1;32mnot\u001b[0m \u001b[0mraw_lengths\u001b[0m\u001b[1;33m:\u001b[0m\u001b[1;33m\u001b[0m\u001b[1;33m\u001b[0m\u001b[0m\n\u001b[1;32m--> 387\u001b[1;33m             \u001b[1;32mraise\u001b[0m \u001b[0mValueError\u001b[0m\u001b[1;33m(\u001b[0m\u001b[1;34m\"If using all scalar values, you must pass an index\"\u001b[0m\u001b[1;33m)\u001b[0m\u001b[1;33m\u001b[0m\u001b[1;33m\u001b[0m\u001b[0m\n\u001b[0m\u001b[0;32m    388\u001b[0m \u001b[1;33m\u001b[0m\u001b[0m\n\u001b[0;32m    389\u001b[0m         \u001b[1;32mif\u001b[0m \u001b[0mhave_series\u001b[0m\u001b[1;33m:\u001b[0m\u001b[1;33m\u001b[0m\u001b[1;33m\u001b[0m\u001b[0m\n",
      "\u001b[1;31mValueError\u001b[0m: If using all scalar values, you must pass an index"
     ]
    }
   ],
   "source": [
    "y_pred = LR_model.predict(x_test)\n",
    "predf=pd.DataFrame({'Actual': y_test, 'Predicted': y_pred})\n",
    "predf"
   ]
  },
  {
   "cell_type": "code",
   "execution_count": 24,
   "metadata": {},
   "outputs": [],
   "source": [
    "import seaborn as sns\n",
    "import matplotlib.pyplot as plt\n",
    "\n",
    "#plt.scatter(y_test,y_pred)\n",
    "#plt.plot(y_test,y_pred,color='blue')\n",
    "##Cosmetics\n",
    "#plt.xlabel(\"Target Value\")\n",
    "#plt.ylabel(\"Predicting Target Value\")\n",
    "#plt.title(\"Predicted vs. Actual Values\");\n",
    "##\n",
    "#plt.show()\n",
    "########"
   ]
  },
  {
   "cell_type": "markdown",
   "metadata": {},
   "source": [
    "# 10). Mean Error (AE,SE,MSE)"
   ]
  },
  {
   "cell_type": "code",
   "execution_count": 25,
   "metadata": {},
   "outputs": [
    {
     "name": "stdout",
     "output_type": "stream",
     "text": [
      "Mean A.Error: 13703.050920626552\n",
      "Mean S.Error: 302849890.8251466\n",
      "Root M.Squared Error: 17402.582877985285\n"
     ]
    }
   ],
   "source": [
    "from sklearn import metrics\n",
    "print('Mean A.Error:', metrics.mean_absolute_error(y_test, y_pred))\n",
    "print('Mean S.Error:', metrics.mean_squared_error(y_test, y_pred))\n",
    "print('Root M.Squared Error:', np.sqrt(metrics.mean_squared_error(y_test, y_pred)))\n",
    "\n",
    "#MSQ oder the difference between the original values and the predicted values is coming too high :(\n",
    "#Evaluate the Model\n"
   ]
  },
  {
   "cell_type": "markdown",
   "metadata": {},
   "source": [
    "# Conculsion:"
   ]
  },
  {
   "cell_type": "code",
   "execution_count": 106,
   "metadata": {},
   "outputs": [],
   "source": [
    "#Evaluate the Model\n",
    "\n",
    "#1. I used Machine learning, Deeplearning (normalizationa, auto featuring). Still need time\n",
    "#2. Perhpas more data required,\n",
    "#3. Bad guess\n",
    "#4. Feature improper selection\n",
    "\n",
    "#Leider, nicht 100% erfolgreich. Ich brauche auch mehr learnen und unbung machen!#"
   ]
  },
  {
   "cell_type": "code",
   "execution_count": null,
   "metadata": {},
   "outputs": [],
   "source": [
    "Prepared by:\n",
    "    \n",
    "    \n",
    "    Khurram Nazir\n",
    "    \n",
    "    Khurram.deutsch@yahoo.com\n",
    "    +49-151-4518-2723\n",
    "    München\n",
    "    Germany."
   ]
  },
  {
   "cell_type": "code",
   "execution_count": null,
   "metadata": {},
   "outputs": [],
   "source": []
  },
  {
   "cell_type": "code",
   "execution_count": null,
   "metadata": {},
   "outputs": [],
   "source": []
  },
  {
   "cell_type": "code",
   "execution_count": null,
   "metadata": {},
   "outputs": [],
   "source": []
  },
  {
   "cell_type": "markdown",
   "metadata": {},
   "source": [
    "## Modelling\n",
    "Choose a suitable model for predicting the sales_per_day and validating the prediction accuracy. Train and test the model."
   ]
  },
  {
   "cell_type": "code",
   "execution_count": null,
   "metadata": {},
   "outputs": [],
   "source": [
    "# TODO ... Python coding ... "
   ]
  },
  {
   "cell_type": "markdown",
   "metadata": {},
   "source": [
    "## Business Problem\n",
    "What other retail data could be relevant to predict the sales_per_day? Give at least 5 different examples and explain in 2-3 sentences why they could be interesting to add to the model."
   ]
  },
  {
   "cell_type": "code",
   "execution_count": null,
   "metadata": {},
   "outputs": [],
   "source": [
    "# TODO ... write down your ideas ..."
   ]
  },
  {
   "cell_type": "markdown",
   "metadata": {},
   "source": [
    "# Architecture \n",
    "\n",
    "Now pretend you need to build a system which runs the model and should be able to make realtime predictions of the sales per day, everytime new data is generated by the source systems.  \n",
    "You need to design (a) data pipeline(s) which transfers the data from either the sourcesystems or BigQuery to the prediction engine in the format the model/prediction engine can handle it. \n",
    "\n",
    "There are the following preconditions: \n",
    "    \n",
    "    - There are 3 source systems: \n",
    "        - System A: System which handles __sales_per_day__ --> API Connector (Real-Time possible)\n",
    "        - System B: Delivers customers_per_day --> Flat File on SFTP Server once per Day per batch\n",
    "        - System C: Stores brand, country, currency and outled_id --> BigQuery    \n",
    "        - You want to enable realtime predictions\n",
    "    \n",
    "    - You can use any component you like and would use for that use case. Please add to each logical component for your architecture a respective tool or GCP service. (e.g. for the logical component ETL a tool named Google Dataflow)\n",
    "\n",
    "Please describe how your architecure would look like with an architecture picture. Describe how the different components will be connected and communicate. Please elaborate why you have choosen a certain logical component + tooling. We expect a moderate level of details within the architecture "
   ]
  },
  {
   "cell_type": "markdown",
   "metadata": {},
   "source": [
    "# Send it to us\n",
    "In the end, please send us: \n",
    "    - The ipython notebook \n",
    "    - An detailed description of your architecture + an architecture picture (PDF). "
   ]
  }
 ],
 "metadata": {
  "environment": {
   "name": "tf2-gpu.2-4.mnightly-2021-02-12-debian-10-test",
   "type": "gcloud",
   "uri": "gcr.io/deeplearning-platform-release/tf2-gpu.2-4:mnightly-2021-02-12-debian-10-test"
  },
  "kernelspec": {
   "display_name": "Python 3",
   "language": "python",
   "name": "python3"
  },
  "language_info": {
   "codemirror_mode": {
    "name": "ipython",
    "version": 3
   },
   "file_extension": ".py",
   "mimetype": "text/x-python",
   "name": "python",
   "nbconvert_exporter": "python",
   "pygments_lexer": "ipython3",
   "version": "3.8.5"
  }
 },
 "nbformat": 4,
 "nbformat_minor": 4
}
