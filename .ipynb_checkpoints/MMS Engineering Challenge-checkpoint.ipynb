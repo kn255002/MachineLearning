{
 "cells": [
  {
   "cell_type": "markdown",
   "metadata": {},
   "source": [
    "# __Welcome to the MMS Engineering Challenge!__\n",
    "\n",
    "This notebook provides you some code to setup a MMS Data Engineering problem. There is no optimal solution, but many good answers. We only want to see if you know how to tackle the problem. There is a lot of room for your approach to the problem. \n",
    "\n",
    "Goal: We want you to predict the number of __sales_per_day__ (= label) with the given dataset and put it into production.\n",
    "\n",
    "\n",
    "Short explanation of the dataset: \n",
    "- __outlet_id__: The ID of a outlet/market\n",
    "- __country__: The country in which the outlet is located\n",
    "- __brand__: \"MediaMarkt\" or \"Saturn\"\n",
    "- __customers_per_day__: The number of customers per day in this outlet \n",
    "- __sales_per_day__: The amount of sales for a specific outlet on a specific day\n",
    "- __currency__: The currency of __sales_per_day__\n",
    "- __week_id__: Calendar week \n",
    "- __weekday__: mon = Monday, tue = Tuesday, ... , sun = Sunday"
   ]
  },
  {
   "cell_type": "code",
   "execution_count": null,
   "metadata": {},
   "outputs": [],
   "source": [
    "import pandas as pd\n",
    "\n",
    "\n",
    "data_path = 'data.csv' # maybe you have to modify this... \n",
    "data = pd.read_csv(data_path, sep=';')\n",
    "print(data.head())"
   ]
  },
  {
   "cell_type": "markdown",
   "metadata": {},
   "source": [
    "# Challenge\n",
    "Now it is your turn. Show us how you are tackeling this problem. You have complete freedom what you do."
   ]
  },
  {
   "cell_type": "markdown",
   "metadata": {},
   "source": [
    "## Exploration\n",
    "The goal here is to better understand the underlying data e.g. in terms of completeness, distribution etc.."
   ]
  },
  {
   "cell_type": "code",
   "execution_count": 35,
   "metadata": {
    "scrolled": false
   },
   "outputs": [
    {
     "name": "stdout",
     "output_type": "stream",
     "text": [
      "<class 'pandas.core.frame.DataFrame'>\n",
      "Int64Index: 18207 entries, 2274 to 11750\n",
      "Data columns (total 8 columns):\n",
      " #   Column             Non-Null Count  Dtype  \n",
      "---  ------             --------------  -----  \n",
      " 0   brand              18174 non-null  object \n",
      " 1   country            18185 non-null  object \n",
      " 2   currency           18184 non-null  object \n",
      " 3   customers_per_day  18199 non-null  float64\n",
      " 4   outlet_id          18194 non-null  float64\n",
      " 5   week_id            18194 non-null  float64\n",
      " 6   weekday            18170 non-null  object \n",
      " 7   sales_per_day      18193 non-null  float64\n",
      "dtypes: float64(4), object(4)\n",
      "memory usage: 1.3+ MB\n",
      "            brand  country currency  customers_per_day  outlet_id  week_id  \\\n",
      "2274   MediaMarkt  germany     EURO              448.0       70.0     33.0   \n",
      "16639      Saturn  germany     EURO             1024.0       81.0      6.0   \n",
      "8068       Saturn    italy     EURO             2668.0      588.0     34.0   \n",
      "18064      Saturn  austria     EURO             1915.0      301.0     42.0   \n",
      "18175      Saturn  germany     EURO             1698.0       86.0     17.0   \n",
      "\n",
      "      weekday  sales_per_day  \n",
      "2274      tue       60512.47  \n",
      "16639     wed       61212.67  \n",
      "8068      sat       71319.74  \n",
      "18064     sat       71087.15  \n",
      "18175     fri       56741.14  \n",
      "(18207, 8)\n",
      "      customers_per_day      outlet_id        week_id  sales_per_day\n",
      "min      -999999.000000 -999999.000000 -999999.000000 -999999.000000\n",
      "max         4734.000000     698.000000      52.000000   96225.530000\n",
      "mean         259.351503    -301.265747    -852.575684   50823.378059\n",
      "50%          550.000000     255.000000      27.000000   57319.920000\n",
      "brand                33\n",
      "country              22\n",
      "currency             23\n",
      "customers_per_day     8\n",
      "outlet_id            13\n",
      "week_id              13\n",
      "weekday              37\n",
      "sales_per_day        14\n",
      "dtype: int64\n"
     ]
    },
    {
     "data": {
      "text/plain": [
       "<AxesSubplot:>"
      ]
     },
     "execution_count": 35,
     "metadata": {},
     "output_type": "execute_result"
    },
    {
     "data": {
      "image/png": "[encoded data removed]",
      "text/plain": [
       "<Figure size 432x288 with 2 Axes>"
      ]
     },
     "metadata": {
      "needs_background": "light"
     },
     "output_type": "display_data"
    }
   ],
   "source": [
    "# TODO ... Python coding ... \n",
    "#\n",
    "import pandas as pd\n",
    "import numpy as np\n",
    "import seaborn as sns\n",
    "\n",
    "def df_lookslike(v_df):\n",
    "    #---------------------------------------How dataframe looks like?\n",
    "    v_df.info()\n",
    "    print(v_df.head(5))\n",
    "    print(v_df.shape)\n",
    "    num_col = [i for i in v_df.columns if (v_df[i].dtype=='int64' or v_df[i].dtype=='float64')]\n",
    "    print(v_df[num_col].describe().loc[['min','max', 'mean','50%'],:]) #Cleanup required?\n",
    "    print(v_df.isnull().sum())\n",
    "    missing_Values=v_df.isnull().sum()\n",
    "    total_missing=missing_Values.sum()\n",
    "    \n",
    "    \n",
    "CLS=['gold','red', 'green', 'blue','purple','orange','black','brown']\n",
    "###############################################################################################\n",
    "df = pd.read_csv(\"C:/Users/khurr/Documents/GitHub/MM/data.csv\",sep=';')\n",
    "df = df.sample(frac=1)\n",
    "df_lookslike(df)  #How DF looks like?\n",
    "##\n",
    "#Missing value visualization\n",
    "sns.heatmap(df.isnull(), \n",
    "            yticklabels=False, \n",
    "            cbar=True, \n",
    "            cmap='viridis')\n"
   ]
  },
  {
   "cell_type": "markdown",
   "metadata": {},
   "source": [
    "# Data Preprocessing"
   ]
  },
  {
   "cell_type": "markdown",
   "metadata": {},
   "source": [
    "# 1). Handling missing values\n",
    "Data contains missing values thus i'm going to fix it at DF Level. Hence, Model doesn't confuse on Test_Data."
   ]
  },
  {
   "cell_type": "code",
   "execution_count": 16,
   "metadata": {
    "scrolled": false
   },
   "outputs": [],
   "source": [
    "#Data Cleansing\n",
    "#Handling missing values\n",
    "import seaborn as sns\n",
    "df=df.replace(-999999.0,0)    #Replace ALL -99999 with 0 at DF Level----------------------------------\n",
    "values = {'brand':'Unknown','country':'Unknown','currency':'Unknown','customers_per_day':0,'outlet_id':0,'week_id':0,'weekday':'Unknown','sales_per_day':0}\n",
    "df=df.fillna(value=values)    #Exchange NULLs in ALL Columns with 'Unknown' Oder 0 at DF Level--------\n",
    "#df_lookslike(df)              #How dataframe looks like?\n",
    "###\n"
   ]
  },
  {
   "cell_type": "markdown",
   "metadata": {},
   "source": [
    "# 2). Visualizing Existing DataFrame"
   ]
  },
  {
   "cell_type": "code",
   "execution_count": 17,
   "metadata": {},
   "outputs": [
    {
     "name": "stdout",
     "output_type": "stream",
     "text": [
      "country\n",
      "Unknown          22366.0\n",
      "austria        2447451.0\n",
      "germany        4878293.0\n",
      "greece         2085359.0\n",
      "italy          2759020.0\n",
      "netherlands    2068048.0\n",
      "spain          2420461.0\n",
      "switzerland    1038927.0\n",
      "Name: customers_per_day, dtype: float64\n"
     ]
    },
    {
     "data": {
      "text/plain": [
       "<AxesSubplot:title={'center':'Total Customers visited as per country'}, xlabel='country', ylabel='Sales'>"
      ]
     },
     "execution_count": 17,
     "metadata": {},
     "output_type": "execute_result"
    },
    {
     "data": {
      "image/png": "[encoded data removed]",
      "text/plain": [
       "<Figure size 864x432 with 1 Axes>"
      ]
     },
     "metadata": {
      "needs_background": "light"
     },
     "output_type": "display_data"
    }
   ],
   "source": [
    "import matplotlib.pyplot as plt\n",
    "#%matplotlib inline\n",
    "#Visited customer as per each country.\n",
    "#\n",
    "df_customer=df.groupby('country')['customers_per_day'].sum()\n",
    "print(df_customer.head(50))\n",
    "##Ploting\n",
    "plt.figure(figsize=(12,6))\n",
    "plt.ticklabel_format(useOffset=False, style='plain')\n",
    "plt.xlabel(\"Countries\")\n",
    "plt.ylabel(\"Sales\")\n",
    "plt.title(\"Total Customers visited as per country\")\n",
    "#\n",
    "df_customer.plot(kind=\"bar\",color=CLS)"
   ]
  },
  {
   "cell_type": "code",
   "execution_count": 18,
   "metadata": {},
   "outputs": [
    {
     "name": "stdout",
     "output_type": "stream",
     "text": [
      "country\n",
      "Unknown        1.081393e+06\n",
      "austria        1.295447e+08\n",
      "germany        2.551227e+08\n",
      "greece         1.101990e+08\n",
      "italy          1.455911e+08\n",
      "netherlands    1.088689e+08\n",
      "spain          1.261726e+08\n",
      "switzerland    5.604940e+07\n",
      "Name: sales_per_day, dtype: float64\n"
     ]
    },
    {
     "data": {
      "text/plain": [
       "<AxesSubplot:title={'center':'Sale as per country'}, xlabel='country', ylabel='Sales'>"
      ]
     },
     "execution_count": 18,
     "metadata": {},
     "output_type": "execute_result"
    },
    {
     "data": {
      "image/png": "[encoded data removed]",
      "text/plain": [
       "<Figure size 864x432 with 1 Axes>"
      ]
     },
     "metadata": {
      "needs_background": "light"
     },
     "output_type": "display_data"
    }
   ],
   "source": [
    "import matplotlib.pyplot as plt\n",
    "#\n",
    "#Sales as per country.\n",
    "###\n",
    "\n",
    "df_country=df.groupby('country')['sales_per_day'].sum()\n",
    "print(df_country.head(50))\n",
    "#print(\"Count:\",sale_Per_country.count())\n",
    "#print(\"Sale per countries:\",round(sale_Per_country[0]),round(sale_Per_country[1]),round(sale_Per_country[2]))\n",
    "\n",
    "##Ploting\n",
    "plt.figure(figsize=(12,6))\n",
    "plt.ticklabel_format(useOffset=False, style='plain')\n",
    "plt.xlabel(\"Countries\")\n",
    "plt.ylabel(\"Sales\")\n",
    "plt.title(\"Sale as per country\")\n",
    "#\n",
    "df_country.plot(kind=\"bar\",color=CLS)\n",
    "#i=0\n",
    "#for c_name in df_country:\n",
    "#    plt.bar(i, c_name)\n",
    "#    i=i+1\n"
   ]
  },
  {
   "cell_type": "code",
   "execution_count": 19,
   "metadata": {
    "scrolled": false
   },
   "outputs": [
    {
     "name": "stdout",
     "output_type": "stream",
     "text": [
      "country  weekday\n",
      "Unknown  Unknown       66027.59\n",
      "         fri          233624.39\n",
      "         mon          269281.16\n",
      "         sat          144708.33\n",
      "         sun               0.00\n",
      "         thu          120677.80\n",
      "         tue           52882.22\n",
      "         wed          194191.83\n",
      "austria  Unknown      266403.96\n",
      "         fri        21363477.02\n",
      "Name: sales_per_day, dtype: float64\n"
     ]
    },
    {
     "data": {
      "text/plain": [
       "<AxesSubplot:title={'center':'Each day Sale as per country'}, xlabel='country,weekday', ylabel='Sales'>"
      ]
     },
     "execution_count": 19,
     "metadata": {},
     "output_type": "execute_result"
    },
    {
     "data": {
      "image/png": "[encoded data removed]",
      "text/plain": [
       "<Figure size 1080x432 with 1 Axes>"
      ]
     },
     "metadata": {
      "needs_background": "light"
     },
     "output_type": "display_data"
    }
   ],
   "source": [
    "import matplotlib.pyplot as plt\n",
    "#\n",
    "#Each day sale in each country **NOT READY**\n",
    "###\n",
    "#1=Monday, 7=Sunday, where 0=Other than 7-days of week.\n",
    "\n",
    "df_country_weekday=df.groupby(['country','weekday'])['sales_per_day'].sum()\n",
    "print(df_country_weekday.head(10))\n",
    "\n",
    "##Ploting\n",
    "plt.figure(figsize=(15,6))\n",
    "plt.ticklabel_format(useOffset=False, style='plain')\n",
    "plt.xlabel(\"Countries\")\n",
    "plt.ylabel(\"Sales\")\n",
    "plt.title(\"Each day Sale as per country\")\n",
    "#\n",
    "\n",
    "df_country_weekday.plot(kind=\"bar\",color=CLS)\n"
   ]
  },
  {
   "cell_type": "markdown",
   "metadata": {},
   "source": [
    "# Data Correlation Visualizing\n",
    "Identification of retail data columns Correlation"
   ]
  },
  {
   "cell_type": "code",
   "execution_count": 20,
   "metadata": {},
   "outputs": [
    {
     "data": {
      "image/png": "[encoded data removed]",
      "text/plain": [
       "<Figure size 2160x2160 with 2 Axes>"
      ]
     },
     "metadata": {
      "needs_background": "light"
     },
     "output_type": "display_data"
    }
   ],
   "source": [
    "import seaborn as sns\n",
    "import matplotlib.pyplot as plt\n",
    "#Analyzing correlation among all columns and Heatmap.\n",
    "# https://pandas.pydata.org/pandas-docs/stable/reference/api/pandas.DataFrame.corr.html?highlight=dataframe%20corr#pandas.DataFrame.corr\n",
    "\n",
    "corrmat = df.corr(method='pearson',min_periods=5) #pearson : standard correlation coefficient\n",
    "top_corr_features = corrmat.index\n",
    "plt.figure(figsize=(30,30))\n",
    "g=sns.heatmap(df[top_corr_features].corr(),annot=True,cmap=\"RdYlGn\")"
   ]
  },
  {
   "cell_type": "markdown",
   "metadata": {},
   "source": [
    "# 2). Data Vectorization\n",
    "Preparing Tensors (by applying different Encoding)"
   ]
  },
  {
   "cell_type": "code",
   "execution_count": 21,
   "metadata": {
    "scrolled": true
   },
   "outputs": [
    {
     "data": {
      "text/html": [
       "<div>\n",
       "<style scoped>\n",
       "    .dataframe tbody tr th:only-of-type {\n",
       "        vertical-align: middle;\n",
       "    }\n",
       "\n",
       "    .dataframe tbody tr th {\n",
       "        vertical-align: top;\n",
       "    }\n",
       "\n",
       "    .dataframe thead th {\n",
       "        text-align: right;\n",
       "    }\n",
       "</style>\n",
       "<table border=\"1\" class=\"dataframe\">\n",
       "  <thead>\n",
       "    <tr style=\"text-align: right;\">\n",
       "      <th></th>\n",
       "      <th>customers_per_day</th>\n",
       "      <th>outlet_id</th>\n",
       "      <th>week_id</th>\n",
       "      <th>sales_per_day</th>\n",
       "      <th>brand_MediaMarkt</th>\n",
       "      <th>brand_Saturn</th>\n",
       "      <th>brand_Unknown</th>\n",
       "      <th>country_Unknown</th>\n",
       "      <th>country_austria</th>\n",
       "      <th>country_germany</th>\n",
       "      <th>...</th>\n",
       "      <th>country_spain</th>\n",
       "      <th>country_switzerland</th>\n",
       "      <th>weekday_Unknown</th>\n",
       "      <th>weekday_fri</th>\n",
       "      <th>weekday_mon</th>\n",
       "      <th>weekday_sat</th>\n",
       "      <th>weekday_sun</th>\n",
       "      <th>weekday_thu</th>\n",
       "      <th>weekday_tue</th>\n",
       "      <th>weekday_wed</th>\n",
       "    </tr>\n",
       "  </thead>\n",
       "  <tbody>\n",
       "    <tr>\n",
       "      <th>11840</th>\n",
       "      <td>2271.0</td>\n",
       "      <td>588.0</td>\n",
       "      <td>40.0</td>\n",
       "      <td>74948.04</td>\n",
       "      <td>0</td>\n",
       "      <td>1</td>\n",
       "      <td>0</td>\n",
       "      <td>0</td>\n",
       "      <td>0</td>\n",
       "      <td>0</td>\n",
       "      <td>...</td>\n",
       "      <td>0</td>\n",
       "      <td>0</td>\n",
       "      <td>0</td>\n",
       "      <td>0</td>\n",
       "      <td>0</td>\n",
       "      <td>1</td>\n",
       "      <td>0</td>\n",
       "      <td>0</td>\n",
       "      <td>0</td>\n",
       "      <td>0</td>\n",
       "    </tr>\n",
       "    <tr>\n",
       "      <th>8598</th>\n",
       "      <td>517.0</td>\n",
       "      <td>59.0</td>\n",
       "      <td>48.0</td>\n",
       "      <td>56104.98</td>\n",
       "      <td>1</td>\n",
       "      <td>0</td>\n",
       "      <td>0</td>\n",
       "      <td>0</td>\n",
       "      <td>0</td>\n",
       "      <td>1</td>\n",
       "      <td>...</td>\n",
       "      <td>0</td>\n",
       "      <td>0</td>\n",
       "      <td>0</td>\n",
       "      <td>0</td>\n",
       "      <td>0</td>\n",
       "      <td>0</td>\n",
       "      <td>0</td>\n",
       "      <td>0</td>\n",
       "      <td>1</td>\n",
       "      <td>0</td>\n",
       "    </tr>\n",
       "    <tr>\n",
       "      <th>8612</th>\n",
       "      <td>2675.0</td>\n",
       "      <td>509.0</td>\n",
       "      <td>14.0</td>\n",
       "      <td>81774.73</td>\n",
       "      <td>1</td>\n",
       "      <td>0</td>\n",
       "      <td>0</td>\n",
       "      <td>0</td>\n",
       "      <td>0</td>\n",
       "      <td>0</td>\n",
       "      <td>...</td>\n",
       "      <td>0</td>\n",
       "      <td>0</td>\n",
       "      <td>0</td>\n",
       "      <td>0</td>\n",
       "      <td>0</td>\n",
       "      <td>1</td>\n",
       "      <td>0</td>\n",
       "      <td>0</td>\n",
       "      <td>0</td>\n",
       "      <td>0</td>\n",
       "    </tr>\n",
       "    <tr>\n",
       "      <th>2282</th>\n",
       "      <td>605.0</td>\n",
       "      <td>51.0</td>\n",
       "      <td>43.0</td>\n",
       "      <td>55677.70</td>\n",
       "      <td>0</td>\n",
       "      <td>1</td>\n",
       "      <td>0</td>\n",
       "      <td>0</td>\n",
       "      <td>0</td>\n",
       "      <td>1</td>\n",
       "      <td>...</td>\n",
       "      <td>0</td>\n",
       "      <td>0</td>\n",
       "      <td>0</td>\n",
       "      <td>0</td>\n",
       "      <td>0</td>\n",
       "      <td>0</td>\n",
       "      <td>0</td>\n",
       "      <td>0</td>\n",
       "      <td>1</td>\n",
       "      <td>0</td>\n",
       "    </tr>\n",
       "    <tr>\n",
       "      <th>15742</th>\n",
       "      <td>1245.0</td>\n",
       "      <td>530.0</td>\n",
       "      <td>13.0</td>\n",
       "      <td>52662.53</td>\n",
       "      <td>1</td>\n",
       "      <td>0</td>\n",
       "      <td>0</td>\n",
       "      <td>0</td>\n",
       "      <td>0</td>\n",
       "      <td>0</td>\n",
       "      <td>...</td>\n",
       "      <td>0</td>\n",
       "      <td>0</td>\n",
       "      <td>0</td>\n",
       "      <td>1</td>\n",
       "      <td>0</td>\n",
       "      <td>0</td>\n",
       "      <td>0</td>\n",
       "      <td>0</td>\n",
       "      <td>0</td>\n",
       "      <td>0</td>\n",
       "    </tr>\n",
       "  </tbody>\n",
       "</table>\n",
       "<p>5 rows × 23 columns</p>\n",
       "</div>"
      ],
      "text/plain": [
       "       customers_per_day  outlet_id  week_id  sales_per_day  brand_MediaMarkt  \\\n",
       "11840             2271.0      588.0     40.0       74948.04                 0   \n",
       "8598               517.0       59.0     48.0       56104.98                 1   \n",
       "8612              2675.0      509.0     14.0       81774.73                 1   \n",
       "2282               605.0       51.0     43.0       55677.70                 0   \n",
       "15742             1245.0      530.0     13.0       52662.53                 1   \n",
       "\n",
       "       brand_Saturn  brand_Unknown  country_Unknown  country_austria  \\\n",
       "11840             1              0                0                0   \n",
       "8598              0              0                0                0   \n",
       "8612              0              0                0                0   \n",
       "2282              1              0                0                0   \n",
       "15742             0              0                0                0   \n",
       "\n",
       "       country_germany  ...  country_spain  country_switzerland  \\\n",
       "11840                0  ...              0                    0   \n",
       "8598                 1  ...              0                    0   \n",
       "8612                 0  ...              0                    0   \n",
       "2282                 1  ...              0                    0   \n",
       "15742                0  ...              0                    0   \n",
       "\n",
       "       weekday_Unknown  weekday_fri  weekday_mon  weekday_sat  weekday_sun  \\\n",
       "11840                0            0            0            1            0   \n",
       "8598                 0            0            0            0            0   \n",
       "8612                 0            0            0            1            0   \n",
       "2282                 0            0            0            0            0   \n",
       "15742                0            1            0            0            0   \n",
       "\n",
       "       weekday_thu  weekday_tue  weekday_wed  \n",
       "11840            0            0            0  \n",
       "8598             0            1            0  \n",
       "8612             0            0            0  \n",
       "2282             0            1            0  \n",
       "15742            0            0            0  \n",
       "\n",
       "[5 rows x 23 columns]"
      ]
     },
     "execution_count": 21,
     "metadata": {},
     "output_type": "execute_result"
    }
   ],
   "source": [
    "# I am going to convert data into numeric values by using following technique und check the score for each case.\n",
    "################################################################################################################\n",
    "#Test Case-1:Integer Encoding :(\n",
    "#Test Case-2:OneHot Encoding :)\n",
    "#Test Case-2:Dummy Variable Encoding.\n",
    "################################################Test Case-1:Integer Encoding####################################\n",
    "#df['brand']=df['brand'].map({'MediaMarkt':1,'Saturn':2,'Unknown':0})\n",
    "#df['country']=df['country'].map({'germany':1,'switzerland':2,'austria':3,'netherlands':4,'spain':5,'greece':6,'Unknown':0})\n",
    "#df['country']=df['country'].fillna(0)\n",
    "#df['currency']=df['currency'].map({'EURO':1,'CHF':2,'Unknown':0})\n",
    "#df['weekday']=df['weekday'].map({'mon':1,'tue':2,'wed':3,'thu':4,'fri':5,'sat':6,'sun':7,'Unknown':0})\n",
    "#print(df['brand'].unique())\n",
    "#df_lookslike(df)              #How dataframe looks like?\n",
    "################################################Test Case-2:One-Hot Encoding####################################\n",
    "#from sklearn.preprocessing import OneHotEncoder\n",
    "#df.drop(['weekday'], axis=1) #Week regresssion\n",
    "df.drop(columns=['currency'], inplace=True) #I don't need it\n",
    "df = pd.get_dummies(df, columns=['brand', 'country','weekday'])\n",
    "df.head(5)             #How dataframe looks like?\n",
    "################################################################################################################"
   ]
  },
  {
   "cell_type": "markdown",
   "metadata": {},
   "source": [
    "# 3). Tensor Normalization & Feature Engineering "
   ]
  },
  {
   "cell_type": "code",
   "execution_count": 22,
   "metadata": {},
   "outputs": [],
   "source": [
    "# Y=M*X + C\n",
    "#\n",
    "# C: The point where line cut the Y-axis\n",
    "# X: Independent variable (All others/Features)\n",
    "# Y: Dependent variable (i.e Sales_per_day)\n",
    "#\n",
    "#df.drop(['currency'], axis=1)\n",
    "\n",
    "y = df[\"sales_per_day\"]\n",
    "df.drop(columns='sales_per_day', inplace=True)\n",
    "\n",
    "#Overfitting and Underfitting \n",
    "#Optimization:  The process of adjusting a model to get the best possible performance.\n",
    "#generalization: How well Model works on unseen data. Model trained on huge data is better. Aber, it Overfits.\n",
    "#Regularization: Process of fixing Overfitting.\n",
    "# 1). Reducing N/W size ONLY on train data.\n",
    "# 2). Add weight regularization (L1, L2)\n",
    "# 3). Add dropout"
   ]
  },
  {
   "cell_type": "code",
   "execution_count": 23,
   "metadata": {},
   "outputs": [
    {
     "name": "stdout",
     "output_type": "stream",
     "text": [
      "(14565, 22)\n",
      "(14565,)\n",
      "(3642, 22)\n"
     ]
    }
   ],
   "source": [
    "#splitting data into Training and Test(0.2)\n",
    "#\n",
    "from sklearn.model_selection import train_test_split\n",
    "x_train,x_test,y_train,y_test=train_test_split(df,y,test_size=0.2,random_state=0)\n",
    "print(x_train.shape)\n",
    "print(y_train.shape)\n",
    "print(x_test.shape)"
   ]
  },
  {
   "cell_type": "code",
   "execution_count": 24,
   "metadata": {},
   "outputs": [
    {
     "data": {
      "text/html": [
       "<div>\n",
       "<style scoped>\n",
       "    .dataframe tbody tr th:only-of-type {\n",
       "        vertical-align: middle;\n",
       "    }\n",
       "\n",
       "    .dataframe tbody tr th {\n",
       "        vertical-align: top;\n",
       "    }\n",
       "\n",
       "    .dataframe thead th {\n",
       "        text-align: right;\n",
       "    }\n",
       "</style>\n",
       "<table border=\"1\" class=\"dataframe\">\n",
       "  <thead>\n",
       "    <tr style=\"text-align: right;\">\n",
       "      <th></th>\n",
       "      <th>customers_per_day</th>\n",
       "      <th>outlet_id</th>\n",
       "      <th>week_id</th>\n",
       "      <th>brand_MediaMarkt</th>\n",
       "      <th>brand_Saturn</th>\n",
       "      <th>brand_Unknown</th>\n",
       "      <th>country_Unknown</th>\n",
       "      <th>country_austria</th>\n",
       "      <th>country_germany</th>\n",
       "      <th>country_greece</th>\n",
       "      <th>...</th>\n",
       "      <th>country_spain</th>\n",
       "      <th>country_switzerland</th>\n",
       "      <th>weekday_Unknown</th>\n",
       "      <th>weekday_fri</th>\n",
       "      <th>weekday_mon</th>\n",
       "      <th>weekday_sat</th>\n",
       "      <th>weekday_sun</th>\n",
       "      <th>weekday_thu</th>\n",
       "      <th>weekday_tue</th>\n",
       "      <th>weekday_wed</th>\n",
       "    </tr>\n",
       "  </thead>\n",
       "  <tbody>\n",
       "    <tr>\n",
       "      <th>11840</th>\n",
       "      <td>1.460743</td>\n",
       "      <td>1.317467</td>\n",
       "      <td>0.893822</td>\n",
       "      <td>0</td>\n",
       "      <td>1</td>\n",
       "      <td>0</td>\n",
       "      <td>0</td>\n",
       "      <td>0</td>\n",
       "      <td>0</td>\n",
       "      <td>0</td>\n",
       "      <td>...</td>\n",
       "      <td>0</td>\n",
       "      <td>0</td>\n",
       "      <td>0</td>\n",
       "      <td>0</td>\n",
       "      <td>0</td>\n",
       "      <td>1</td>\n",
       "      <td>0</td>\n",
       "      <td>0</td>\n",
       "      <td>0</td>\n",
       "      <td>0</td>\n",
       "    </tr>\n",
       "    <tr>\n",
       "      <th>8598</th>\n",
       "      <td>-0.513550</td>\n",
       "      <td>-1.128898</td>\n",
       "      <td>1.436151</td>\n",
       "      <td>1</td>\n",
       "      <td>0</td>\n",
       "      <td>0</td>\n",
       "      <td>0</td>\n",
       "      <td>0</td>\n",
       "      <td>1</td>\n",
       "      <td>0</td>\n",
       "      <td>...</td>\n",
       "      <td>0</td>\n",
       "      <td>0</td>\n",
       "      <td>0</td>\n",
       "      <td>0</td>\n",
       "      <td>0</td>\n",
       "      <td>0</td>\n",
       "      <td>0</td>\n",
       "      <td>0</td>\n",
       "      <td>1</td>\n",
       "      <td>0</td>\n",
       "    </tr>\n",
       "    <tr>\n",
       "      <th>8612</th>\n",
       "      <td>1.915483</td>\n",
       "      <td>0.952131</td>\n",
       "      <td>-0.868748</td>\n",
       "      <td>1</td>\n",
       "      <td>0</td>\n",
       "      <td>0</td>\n",
       "      <td>0</td>\n",
       "      <td>0</td>\n",
       "      <td>0</td>\n",
       "      <td>0</td>\n",
       "      <td>...</td>\n",
       "      <td>0</td>\n",
       "      <td>0</td>\n",
       "      <td>0</td>\n",
       "      <td>0</td>\n",
       "      <td>0</td>\n",
       "      <td>1</td>\n",
       "      <td>0</td>\n",
       "      <td>0</td>\n",
       "      <td>0</td>\n",
       "      <td>0</td>\n",
       "    </tr>\n",
       "    <tr>\n",
       "      <th>2282</th>\n",
       "      <td>-0.414498</td>\n",
       "      <td>-1.165894</td>\n",
       "      <td>1.097195</td>\n",
       "      <td>0</td>\n",
       "      <td>1</td>\n",
       "      <td>0</td>\n",
       "      <td>0</td>\n",
       "      <td>0</td>\n",
       "      <td>1</td>\n",
       "      <td>0</td>\n",
       "      <td>...</td>\n",
       "      <td>0</td>\n",
       "      <td>0</td>\n",
       "      <td>0</td>\n",
       "      <td>0</td>\n",
       "      <td>0</td>\n",
       "      <td>0</td>\n",
       "      <td>0</td>\n",
       "      <td>0</td>\n",
       "      <td>1</td>\n",
       "      <td>0</td>\n",
       "    </tr>\n",
       "    <tr>\n",
       "      <th>15742</th>\n",
       "      <td>0.305883</td>\n",
       "      <td>1.049245</td>\n",
       "      <td>-0.936540</td>\n",
       "      <td>1</td>\n",
       "      <td>0</td>\n",
       "      <td>0</td>\n",
       "      <td>0</td>\n",
       "      <td>0</td>\n",
       "      <td>0</td>\n",
       "      <td>0</td>\n",
       "      <td>...</td>\n",
       "      <td>0</td>\n",
       "      <td>0</td>\n",
       "      <td>0</td>\n",
       "      <td>1</td>\n",
       "      <td>0</td>\n",
       "      <td>0</td>\n",
       "      <td>0</td>\n",
       "      <td>0</td>\n",
       "      <td>0</td>\n",
       "      <td>0</td>\n",
       "    </tr>\n",
       "    <tr>\n",
       "      <th>...</th>\n",
       "      <td>...</td>\n",
       "      <td>...</td>\n",
       "      <td>...</td>\n",
       "      <td>...</td>\n",
       "      <td>...</td>\n",
       "      <td>...</td>\n",
       "      <td>...</td>\n",
       "      <td>...</td>\n",
       "      <td>...</td>\n",
       "      <td>...</td>\n",
       "      <td>...</td>\n",
       "      <td>...</td>\n",
       "      <td>...</td>\n",
       "      <td>...</td>\n",
       "      <td>...</td>\n",
       "      <td>...</td>\n",
       "      <td>...</td>\n",
       "      <td>...</td>\n",
       "      <td>...</td>\n",
       "      <td>...</td>\n",
       "      <td>...</td>\n",
       "    </tr>\n",
       "    <tr>\n",
       "      <th>1351</th>\n",
       "      <td>-0.495541</td>\n",
       "      <td>-0.222494</td>\n",
       "      <td>0.080328</td>\n",
       "      <td>1</td>\n",
       "      <td>0</td>\n",
       "      <td>0</td>\n",
       "      <td>0</td>\n",
       "      <td>0</td>\n",
       "      <td>0</td>\n",
       "      <td>1</td>\n",
       "      <td>...</td>\n",
       "      <td>0</td>\n",
       "      <td>0</td>\n",
       "      <td>0</td>\n",
       "      <td>0</td>\n",
       "      <td>0</td>\n",
       "      <td>0</td>\n",
       "      <td>0</td>\n",
       "      <td>1</td>\n",
       "      <td>0</td>\n",
       "      <td>0</td>\n",
       "    </tr>\n",
       "    <tr>\n",
       "      <th>14356</th>\n",
       "      <td>-1.095483</td>\n",
       "      <td>0.142842</td>\n",
       "      <td>0.622657</td>\n",
       "      <td>1</td>\n",
       "      <td>0</td>\n",
       "      <td>0</td>\n",
       "      <td>0</td>\n",
       "      <td>1</td>\n",
       "      <td>0</td>\n",
       "      <td>0</td>\n",
       "      <td>...</td>\n",
       "      <td>0</td>\n",
       "      <td>0</td>\n",
       "      <td>0</td>\n",
       "      <td>0</td>\n",
       "      <td>0</td>\n",
       "      <td>0</td>\n",
       "      <td>1</td>\n",
       "      <td>0</td>\n",
       "      <td>0</td>\n",
       "      <td>0</td>\n",
       "    </tr>\n",
       "    <tr>\n",
       "      <th>11148</th>\n",
       "      <td>0.523122</td>\n",
       "      <td>1.049245</td>\n",
       "      <td>0.419283</td>\n",
       "      <td>1</td>\n",
       "      <td>0</td>\n",
       "      <td>0</td>\n",
       "      <td>0</td>\n",
       "      <td>0</td>\n",
       "      <td>0</td>\n",
       "      <td>0</td>\n",
       "      <td>...</td>\n",
       "      <td>0</td>\n",
       "      <td>0</td>\n",
       "      <td>0</td>\n",
       "      <td>0</td>\n",
       "      <td>0</td>\n",
       "      <td>0</td>\n",
       "      <td>0</td>\n",
       "      <td>0</td>\n",
       "      <td>0</td>\n",
       "      <td>1</td>\n",
       "    </tr>\n",
       "    <tr>\n",
       "      <th>16253</th>\n",
       "      <td>0.676203</td>\n",
       "      <td>-0.962416</td>\n",
       "      <td>0.283701</td>\n",
       "      <td>1</td>\n",
       "      <td>0</td>\n",
       "      <td>0</td>\n",
       "      <td>0</td>\n",
       "      <td>0</td>\n",
       "      <td>1</td>\n",
       "      <td>0</td>\n",
       "      <td>...</td>\n",
       "      <td>0</td>\n",
       "      <td>0</td>\n",
       "      <td>0</td>\n",
       "      <td>0</td>\n",
       "      <td>0</td>\n",
       "      <td>0</td>\n",
       "      <td>0</td>\n",
       "      <td>0</td>\n",
       "      <td>0</td>\n",
       "      <td>1</td>\n",
       "    </tr>\n",
       "    <tr>\n",
       "      <th>14921</th>\n",
       "      <td>-0.408870</td>\n",
       "      <td>1.613435</td>\n",
       "      <td>-0.800957</td>\n",
       "      <td>1</td>\n",
       "      <td>0</td>\n",
       "      <td>0</td>\n",
       "      <td>0</td>\n",
       "      <td>0</td>\n",
       "      <td>0</td>\n",
       "      <td>0</td>\n",
       "      <td>...</td>\n",
       "      <td>0</td>\n",
       "      <td>0</td>\n",
       "      <td>0</td>\n",
       "      <td>0</td>\n",
       "      <td>0</td>\n",
       "      <td>0</td>\n",
       "      <td>0</td>\n",
       "      <td>1</td>\n",
       "      <td>0</td>\n",
       "      <td>0</td>\n",
       "    </tr>\n",
       "  </tbody>\n",
       "</table>\n",
       "<p>18207 rows × 22 columns</p>\n",
       "</div>"
      ],
      "text/plain": [
       "       customers_per_day  outlet_id   week_id  brand_MediaMarkt  brand_Saturn  \\\n",
       "11840           1.460743   1.317467  0.893822                 0             1   \n",
       "8598           -0.513550  -1.128898  1.436151                 1             0   \n",
       "8612            1.915483   0.952131 -0.868748                 1             0   \n",
       "2282           -0.414498  -1.165894  1.097195                 0             1   \n",
       "15742           0.305883   1.049245 -0.936540                 1             0   \n",
       "...                  ...        ...       ...               ...           ...   \n",
       "1351           -0.495541  -0.222494  0.080328                 1             0   \n",
       "14356          -1.095483   0.142842  0.622657                 1             0   \n",
       "11148           0.523122   1.049245  0.419283                 1             0   \n",
       "16253           0.676203  -0.962416  0.283701                 1             0   \n",
       "14921          -0.408870   1.613435 -0.800957                 1             0   \n",
       "\n",
       "       brand_Unknown  country_Unknown  country_austria  country_germany  \\\n",
       "11840              0                0                0                0   \n",
       "8598               0                0                0                1   \n",
       "8612               0                0                0                0   \n",
       "2282               0                0                0                1   \n",
       "15742              0                0                0                0   \n",
       "...              ...              ...              ...              ...   \n",
       "1351               0                0                0                0   \n",
       "14356              0                0                1                0   \n",
       "11148              0                0                0                0   \n",
       "16253              0                0                0                1   \n",
       "14921              0                0                0                0   \n",
       "\n",
       "       country_greece  ...  country_spain  country_switzerland  \\\n",
       "11840               0  ...              0                    0   \n",
       "8598                0  ...              0                    0   \n",
       "8612                0  ...              0                    0   \n",
       "2282                0  ...              0                    0   \n",
       "15742               0  ...              0                    0   \n",
       "...               ...  ...            ...                  ...   \n",
       "1351                1  ...              0                    0   \n",
       "14356               0  ...              0                    0   \n",
       "11148               0  ...              0                    0   \n",
       "16253               0  ...              0                    0   \n",
       "14921               0  ...              0                    0   \n",
       "\n",
       "       weekday_Unknown  weekday_fri  weekday_mon  weekday_sat  weekday_sun  \\\n",
       "11840                0            0            0            1            0   \n",
       "8598                 0            0            0            0            0   \n",
       "8612                 0            0            0            1            0   \n",
       "2282                 0            0            0            0            0   \n",
       "15742                0            1            0            0            0   \n",
       "...                ...          ...          ...          ...          ...   \n",
       "1351                 0            0            0            0            0   \n",
       "14356                0            0            0            0            1   \n",
       "11148                0            0            0            0            0   \n",
       "16253                0            0            0            0            0   \n",
       "14921                0            0            0            0            0   \n",
       "\n",
       "       weekday_thu  weekday_tue  weekday_wed  \n",
       "11840            0            0            0  \n",
       "8598             0            1            0  \n",
       "8612             0            0            0  \n",
       "2282             0            1            0  \n",
       "15742            0            0            0  \n",
       "...            ...          ...          ...  \n",
       "1351             1            0            0  \n",
       "14356            0            0            0  \n",
       "11148            0            0            1  \n",
       "16253            0            0            1  \n",
       "14921            1            0            0  \n",
       "\n",
       "[18207 rows x 22 columns]"
      ]
     },
     "execution_count": 24,
     "metadata": {},
     "output_type": "execute_result"
    }
   ],
   "source": [
    "#Normalization of 1st THREE columns for Training data\n",
    "#\n",
    "xtrain_mean = df.iloc[:, :3].mean(axis=0)\n",
    "xtrain_std = df.iloc[:, :3].std(axis=0)\n",
    "#\n",
    "df.iloc[:, :3] -= xtrain_mean\n",
    "df.iloc[:, :3] /= xtrain_std\n",
    "df"
   ]
  },
  {
   "cell_type": "code",
   "execution_count": 25,
   "metadata": {},
   "outputs": [
    {
     "data": {
      "text/plain": [
       "12801    0.950337\n",
       "13288   -2.303940\n",
       "17255   -2.303940\n",
       "10152    0.926151\n",
       "9152    -2.303940\n",
       "           ...   \n",
       "14878    0.250301\n",
       "17489   -0.118718\n",
       "14649   -2.303940\n",
       "4560     0.899343\n",
       "627      0.806184\n",
       "Name: sales_per_day, Length: 14565, dtype: float64"
      ]
     },
     "execution_count": 25,
     "metadata": {},
     "output_type": "execute_result"
    }
   ],
   "source": [
    "#Normalization of 1st THREE columns for Training data\n",
    "#\n",
    "ytrain_mean = y_train.mean(axis=0)\n",
    "ytrain_std = y_train.std(axis=0)\n",
    "#\n",
    "y_train -= ytrain_mean\n",
    "y_train /= ytrain_std\n",
    "\n",
    "y_train"
   ]
  },
  {
   "cell_type": "code",
   "execution_count": 26,
   "metadata": {},
   "outputs": [],
   "source": [
    "#Normalization of 1st THREE columns for Test data.\n",
    "#\n",
    "#test_mean =df.iloc[:,:3].mean(axis=0)\n",
    "#xtest_std = df.iloc[:,:3].std(axis=0)\n",
    "#df.iloc[:, :3] -= xtest_mean\n",
    "#df.iloc[:, :3] /= xtest_std\n",
    "#df.head(5)\n",
    "#\n"
   ]
  },
  {
   "cell_type": "markdown",
   "metadata": {},
   "source": [
    "# Linear Regression\n",
    "To make predictions in labeled sample data and the Data consists of predicting a continuous value."
   ]
  },
  {
   "cell_type": "code",
   "execution_count": 27,
   "metadata": {},
   "outputs": [
    {
     "name": "stdout",
     "output_type": "stream",
     "text": [
      "LR-Train score: 0.9581289805163133\n",
      "LR-Test score: -5.238460867879644\n"
     ]
    }
   ],
   "source": [
    "# Building Regression Model\n",
    "# Finding/establishing a linear relationship between dependant & independent variable.\n",
    "#\n",
    "#Linear Models: https://scikit-learn.org/stable/modules/linear_model.html\n",
    "#\n",
    "#Case-1): LinearRegression:\n",
    "\n",
    "from sklearn.linear_model import LinearRegression\n",
    "LR_model=LinearRegression()\n",
    "LR_model.fit(x_train,y_train) #We are training.\n",
    "#LinearRegression(copy_X=True,fit_intercept=True,n_jobs=1,normalize=False\n",
    "\n",
    "print('LR-Train score:',LR_model.score(x_train,y_train))\n",
    "print('LR-Test score:' ,LR_model.score(x_test,y_test))"
   ]
  },
  {
   "cell_type": "markdown",
   "metadata": {},
   "source": [
    "# Which coefficients the regression model has chosen"
   ]
  },
  {
   "cell_type": "code",
   "execution_count": 28,
   "metadata": {},
   "outputs": [
    {
     "data": {
      "text/html": [
       "<div>\n",
       "<style scoped>\n",
       "    .dataframe tbody tr th:only-of-type {\n",
       "        vertical-align: middle;\n",
       "    }\n",
       "\n",
       "    .dataframe tbody tr th {\n",
       "        vertical-align: top;\n",
       "    }\n",
       "\n",
       "    .dataframe thead th {\n",
       "        text-align: right;\n",
       "    }\n",
       "</style>\n",
       "<table border=\"1\" class=\"dataframe\">\n",
       "  <thead>\n",
       "    <tr style=\"text-align: right;\">\n",
       "      <th></th>\n",
       "      <th>Coefficient</th>\n",
       "    </tr>\n",
       "  </thead>\n",
       "  <tbody>\n",
       "    <tr>\n",
       "      <th>customers_per_day</th>\n",
       "      <td>0.000254</td>\n",
       "    </tr>\n",
       "    <tr>\n",
       "      <th>outlet_id</th>\n",
       "      <td>-0.000024</td>\n",
       "    </tr>\n",
       "    <tr>\n",
       "      <th>week_id</th>\n",
       "      <td>0.002362</td>\n",
       "    </tr>\n",
       "    <tr>\n",
       "      <th>brand_MediaMarkt</th>\n",
       "      <td>-0.015093</td>\n",
       "    </tr>\n",
       "    <tr>\n",
       "      <th>brand_Saturn</th>\n",
       "      <td>0.001225</td>\n",
       "    </tr>\n",
       "    <tr>\n",
       "      <th>brand_Unknown</th>\n",
       "      <td>0.013867</td>\n",
       "    </tr>\n",
       "    <tr>\n",
       "      <th>country_Unknown</th>\n",
       "      <td>-0.035810</td>\n",
       "    </tr>\n",
       "    <tr>\n",
       "      <th>country_austria</th>\n",
       "      <td>0.029269</td>\n",
       "    </tr>\n",
       "    <tr>\n",
       "      <th>country_germany</th>\n",
       "      <td>-0.014161</td>\n",
       "    </tr>\n",
       "    <tr>\n",
       "      <th>country_greece</th>\n",
       "      <td>0.006906</td>\n",
       "    </tr>\n",
       "    <tr>\n",
       "      <th>country_italy</th>\n",
       "      <td>-0.000396</td>\n",
       "    </tr>\n",
       "    <tr>\n",
       "      <th>country_netherlands</th>\n",
       "      <td>-0.003466</td>\n",
       "    </tr>\n",
       "    <tr>\n",
       "      <th>country_spain</th>\n",
       "      <td>-0.038784</td>\n",
       "    </tr>\n",
       "    <tr>\n",
       "      <th>country_switzerland</th>\n",
       "      <td>0.056443</td>\n",
       "    </tr>\n",
       "    <tr>\n",
       "      <th>weekday_Unknown</th>\n",
       "      <td>-0.093969</td>\n",
       "    </tr>\n",
       "    <tr>\n",
       "      <th>weekday_fri</th>\n",
       "      <td>0.119527</td>\n",
       "    </tr>\n",
       "    <tr>\n",
       "      <th>weekday_mon</th>\n",
       "      <td>0.320363</td>\n",
       "    </tr>\n",
       "    <tr>\n",
       "      <th>weekday_sat</th>\n",
       "      <td>0.596334</td>\n",
       "    </tr>\n",
       "    <tr>\n",
       "      <th>weekday_sun</th>\n",
       "      <td>-2.042085</td>\n",
       "    </tr>\n",
       "    <tr>\n",
       "      <th>weekday_thu</th>\n",
       "      <td>0.464197</td>\n",
       "    </tr>\n",
       "    <tr>\n",
       "      <th>weekday_tue</th>\n",
       "      <td>0.212627</td>\n",
       "    </tr>\n",
       "    <tr>\n",
       "      <th>weekday_wed</th>\n",
       "      <td>0.423006</td>\n",
       "    </tr>\n",
       "  </tbody>\n",
       "</table>\n",
       "</div>"
      ],
      "text/plain": [
       "                     Coefficient\n",
       "customers_per_day       0.000254\n",
       "outlet_id              -0.000024\n",
       "week_id                 0.002362\n",
       "brand_MediaMarkt       -0.015093\n",
       "brand_Saturn            0.001225\n",
       "brand_Unknown           0.013867\n",
       "country_Unknown        -0.035810\n",
       "country_austria         0.029269\n",
       "country_germany        -0.014161\n",
       "country_greece          0.006906\n",
       "country_italy          -0.000396\n",
       "country_netherlands    -0.003466\n",
       "country_spain          -0.038784\n",
       "country_switzerland     0.056443\n",
       "weekday_Unknown        -0.093969\n",
       "weekday_fri             0.119527\n",
       "weekday_mon             0.320363\n",
       "weekday_sat             0.596334\n",
       "weekday_sun            -2.042085\n",
       "weekday_thu             0.464197\n",
       "weekday_tue             0.212627\n",
       "weekday_wed             0.423006"
      ]
     },
     "execution_count": 28,
     "metadata": {},
     "output_type": "execute_result"
    }
   ],
   "source": [
    "coeff_df = pd.DataFrame(LR_model.coef_, df.columns, columns=['Coefficient'])\n",
    "coeff_df\n",
    "##returns the coefficient of determination or R². Its maximum is 1. The higher the R² value, the better the fit."
   ]
  },
  {
   "cell_type": "code",
   "execution_count": 29,
   "metadata": {},
   "outputs": [
    {
     "name": "stdout",
     "output_type": "stream",
     "text": [
      "LinearRegression Train score: 0.9581289805163133\n",
      "LinearRegression Test score: -5.238460867879644\n"
     ]
    }
   ],
   "source": [
    "#\n",
    "print('LinearRegression Train score:',LR_model.score(x_train,y_train))\n",
    "print('LinearRegression Test score:' ,LR_model.score(x_test,y_test))\n",
    "##returns the coefficient of determination or R². Its maximum is 1. The higher the R² value, the better the fit."
   ]
  },
  {
   "cell_type": "markdown",
   "metadata": {},
   "source": [
    "# Actual Vs Prediction"
   ]
  },
  {
   "cell_type": "code",
   "execution_count": 30,
   "metadata": {},
   "outputs": [
    {
     "data": {
      "text/html": [
       "<div>\n",
       "<style scoped>\n",
       "    .dataframe tbody tr th:only-of-type {\n",
       "        vertical-align: middle;\n",
       "    }\n",
       "\n",
       "    .dataframe tbody tr th {\n",
       "        vertical-align: top;\n",
       "    }\n",
       "\n",
       "    .dataframe thead th {\n",
       "        text-align: right;\n",
       "    }\n",
       "</style>\n",
       "<table border=\"1\" class=\"dataframe\">\n",
       "  <thead>\n",
       "    <tr style=\"text-align: right;\">\n",
       "      <th></th>\n",
       "      <th>Actual</th>\n",
       "      <th>Predicted</th>\n",
       "    </tr>\n",
       "  </thead>\n",
       "  <tbody>\n",
       "    <tr>\n",
       "      <th>4328</th>\n",
       "      <td>61386.64</td>\n",
       "      <td>0.029106</td>\n",
       "    </tr>\n",
       "    <tr>\n",
       "      <th>16886</th>\n",
       "      <td>59849.61</td>\n",
       "      <td>0.408883</td>\n",
       "    </tr>\n",
       "    <tr>\n",
       "      <th>10859</th>\n",
       "      <td>56313.92</td>\n",
       "      <td>0.159846</td>\n",
       "    </tr>\n",
       "    <tr>\n",
       "      <th>8</th>\n",
       "      <td>62742.69</td>\n",
       "      <td>0.255547</td>\n",
       "    </tr>\n",
       "    <tr>\n",
       "      <th>9102</th>\n",
       "      <td>58462.53</td>\n",
       "      <td>0.449679</td>\n",
       "    </tr>\n",
       "    <tr>\n",
       "      <th>...</th>\n",
       "      <td>...</td>\n",
       "      <td>...</td>\n",
       "    </tr>\n",
       "    <tr>\n",
       "      <th>13928</th>\n",
       "      <td>73082.02</td>\n",
       "      <td>1.113821</td>\n",
       "    </tr>\n",
       "    <tr>\n",
       "      <th>12197</th>\n",
       "      <td>57651.35</td>\n",
       "      <td>0.141235</td>\n",
       "    </tr>\n",
       "    <tr>\n",
       "      <th>2016</th>\n",
       "      <td>50496.54</td>\n",
       "      <td>0.006764</td>\n",
       "    </tr>\n",
       "    <tr>\n",
       "      <th>14363</th>\n",
       "      <td>59154.89</td>\n",
       "      <td>0.059911</td>\n",
       "    </tr>\n",
       "    <tr>\n",
       "      <th>13286</th>\n",
       "      <td>0.00</td>\n",
       "      <td>-2.337691</td>\n",
       "    </tr>\n",
       "  </tbody>\n",
       "</table>\n",
       "<p>3642 rows × 2 columns</p>\n",
       "</div>"
      ],
      "text/plain": [
       "         Actual  Predicted\n",
       "4328   61386.64   0.029106\n",
       "16886  59849.61   0.408883\n",
       "10859  56313.92   0.159846\n",
       "8      62742.69   0.255547\n",
       "9102   58462.53   0.449679\n",
       "...         ...        ...\n",
       "13928  73082.02   1.113821\n",
       "12197  57651.35   0.141235\n",
       "2016   50496.54   0.006764\n",
       "14363  59154.89   0.059911\n",
       "13286      0.00  -2.337691\n",
       "\n",
       "[3642 rows x 2 columns]"
      ]
     },
     "execution_count": 30,
     "metadata": {},
     "output_type": "execute_result"
    }
   ],
   "source": [
    "y_pred = LR_model.predict(x_test)\n",
    "pdf=pd.DataFrame({'Actual': y_test, 'Predicted': y_pred})\n",
    "pdf\n",
    "\n",
    "#from sklearn.metrics import accuracy_score\n",
    "#accuracy_score(y_test,y_pred)"
   ]
  },
  {
   "cell_type": "code",
   "execution_count": 31,
   "metadata": {},
   "outputs": [
    {
     "data": {
      "image/png": "[encoded data removed]",
      "text/plain": [
       "<Figure size 432x288 with 1 Axes>"
      ]
     },
     "metadata": {
      "needs_background": "light"
     },
     "output_type": "display_data"
    }
   ],
   "source": [
    "import seaborn as sns\n",
    "import matplotlib.pyplot as plt\n",
    "\n",
    "plt.scatter(y_test,y_pred)\n",
    "plt.plot(y_test,y_pred,color='blue')\n",
    "##Cosmetics\n",
    "plt.xlabel(\"Target Value\")\n",
    "plt.ylabel(\"Predicting Target Value\")\n",
    "plt.title(\"Predicted vs. Actual Values\");\n",
    "##\n",
    "plt.show()\n",
    "########"
   ]
  },
  {
   "cell_type": "code",
   "execution_count": 32,
   "metadata": {},
   "outputs": [
    {
     "name": "stdout",
     "output_type": "stream",
     "text": [
      "Mean A.Error: 51288.709968015086\n",
      "Mean S.Error: 3132637419.7532616\n",
      "Root M.Squared Error: 55969.96890970426\n"
     ]
    }
   ],
   "source": [
    "from sklearn import metrics\n",
    "\n",
    "\n",
    "print('Mean A.Error:', metrics.mean_absolute_error(y_test, y_pred))\n",
    "print('Mean S.Error:', metrics.mean_squared_error(y_test, y_pred))\n",
    "print('Root M.Squared Error:', np.sqrt(metrics.mean_squared_error(y_test, y_pred)))\n",
    "#MSQ oder the difference between the original values and the predicted values is coming too high :(\n"
   ]
  },
  {
   "cell_type": "markdown",
   "metadata": {},
   "source": [
    "# Conculsion:"
   ]
  },
  {
   "cell_type": "code",
   "execution_count": null,
   "metadata": {},
   "outputs": [],
   "source": [
    "\n",
    "#Evaluate the Model\n",
    "\n",
    "#1. Perhpas more data required,\n",
    "#2. Bad guess\n",
    "#3. Feature improper selection\n",
    "\n",
    "#Ich auch Jeden Tag learnen!#"
   ]
  },
  {
   "cell_type": "markdown",
   "metadata": {},
   "source": [
    "## Modelling\n",
    "Choose a suitable model for predicting the sales_per_day and validating the prediction accuracy. Train and test the model."
   ]
  },
  {
   "cell_type": "code",
   "execution_count": null,
   "metadata": {},
   "outputs": [],
   "source": [
    "# TODO ... Python coding ... "
   ]
  },
  {
   "cell_type": "markdown",
   "metadata": {},
   "source": [
    "## Business Problem\n",
    "What other retail data could be relevant to predict the sales_per_day? Give at least 5 different examples and explain in 2-3 sentences why they could be interesting to add to the model."
   ]
  },
  {
   "cell_type": "code",
   "execution_count": null,
   "metadata": {},
   "outputs": [],
   "source": [
    "# TODO ... write down your ideas ..."
   ]
  },
  {
   "cell_type": "markdown",
   "metadata": {},
   "source": [
    "# Architecture \n",
    "\n",
    "Now pretend you need to build a system which runs the model and should be able to make realtime predictions of the sales per day, everytime new data is generated by the source systems.  \n",
    "You need to design (a) data pipeline(s) which transfers the data from either the sourcesystems or BigQuery to the prediction engine in the format the model/prediction engine can handle it. \n",
    "\n",
    "There are the following preconditions: \n",
    "    \n",
    "    - There are 3 source systems: \n",
    "        - System A: System which handles __sales_per_day__ --> API Connector (Real-Time possible)\n",
    "        - System B: Delivers customers_per_day --> Flat File on SFTP Server once per Day per batch\n",
    "        - System C: Stores brand, country, currency and outled_id --> BigQuery    \n",
    "        - You want to enable realtime predictions\n",
    "    \n",
    "    - You can use any component you like and would use for that use case. Please add to each logical component for your architecture a respective tool or GCP service. (e.g. for the logical component ETL a tool named Google Dataflow)\n",
    "\n",
    "Please describe how your architecure would look like with an architecture picture. Describe how the different components will be connected and communicate. Please elaborate why you have choosen a certain logical component + tooling. We expect a moderate level of details within the architecture "
   ]
  },
  {
   "cell_type": "markdown",
   "metadata": {},
   "source": [
    "# Send it to us\n",
    "In the end, please send us: \n",
    "    - The ipython notebook \n",
    "    - An detailed description of your architecture + an architecture picture (PDF). "
   ]
  },
  {
   "cell_type": "code",
   "execution_count": null,
   "metadata": {},
   "outputs": [],
   "source": []
  }
 ],
 "metadata": {
  "environment": {
   "name": "tf2-gpu.2-4.mnightly-2021-02-12-debian-10-test",
   "type": "gcloud",
   "uri": "gcr.io/deeplearning-platform-release/tf2-gpu.2-4:mnightly-2021-02-12-debian-10-test"
  },
  "kernelspec": {
   "display_name": "Python 3",
   "language": "python",
   "name": "python3"
  },
  "language_info": {
   "codemirror_mode": {
    "name": "ipython",
    "version": 3
   },
   "file_extension": ".py",
   "mimetype": "text/x-python",
   "name": "python",
   "nbconvert_exporter": "python",
   "pygments_lexer": "ipython3",
   "version": "3.8.5"
  }
 },
 "nbformat": 4,
 "nbformat_minor": 4
}
